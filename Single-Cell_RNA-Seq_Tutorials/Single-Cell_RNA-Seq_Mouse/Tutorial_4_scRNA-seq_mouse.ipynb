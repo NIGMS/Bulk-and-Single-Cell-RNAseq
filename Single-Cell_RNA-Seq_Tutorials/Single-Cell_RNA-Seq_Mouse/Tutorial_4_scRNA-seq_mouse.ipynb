{
 "cells": [
  {
   "cell_type": "markdown",
   "id": "2b6eb9c9-d9d2-445b-9496-c7386d8a7063",
   "metadata": {},
   "source": [
    "# Single-cell RNA-Seq Analysis Training Demo"
   ]
  },
  {
   "cell_type": "markdown",
   "id": "a4f65c8f-103c-4720-8bfc-e7d37e4e8413",
   "metadata": {},
   "source": [
    "## Overview"
   ]
  },
  {
   "cell_type": "markdown",
   "id": "f1493627-43d0-4ec5-84ba-b9743dfd933a",
   "metadata": {},
   "source": [
    "This code sets up a workflow for processing and analyzing single-cell RNA-seq (scRNA-seq) data, from Lee DR, Rhodes C, Mitra A, Zhang Y et al study, using the Seurat package in R. The steps include data preparation, quality control, normalization, and clustering. The workflow begins with downloading raw sequencing data, organizing it, and creating a Seurat object for analysis. It then proceeds with identifying important features like highly variable genes, performing dimensionality reduction, and clustering cells based on their gene expression patterns.\n",
    "\n",
    "Also the code provide plots to visualize and interpret scRNA-seq data. Violin plots and Feature Scatter plots assess the quality control metrics, such as gene counts and mitochondrial content. The Highly Variable Genes plot highlights genes driving differences across cells. Dimensionality reduction techniques, such as PCA, UMAP, and t-SNE, are used to visualize cell groupings and explore the overall structure of the data. Heatmaps display gene expression patterns across clusters, while the Elbow plot helps determine the optimal number of principal components for clustering. Together, these plots provide a comprehensive overview of data quality, cell clustering, and marker gene expression."
   ]
  },
  {
   "cell_type": "markdown",
   "id": "c8261951-e9fc-4194-a5f3-66904cf0a558",
   "metadata": {},
   "source": [
    "## STEP 1. Getting Started"
   ]
  },
  {
   "cell_type": "markdown",
   "id": "080ecc19-5d01-43d5-99d6-d480ca54ff2d",
   "metadata": {},
   "source": [
    "<div class=\"alert alert-block alert-warning\"> NOTE: This Jupyter Notebook was developed to run within a customized container on AWS with all software and tools pre-configured. If running without this customized container, you will need to install the packages below before moving on to Step 1.2.</div>"
   ]
  },
  {
   "cell_type": "markdown",
   "id": "f2faac0d-01ef-4427-90f8-27f41d14ac9d",
   "metadata": {},
   "source": [
    "### STEP 1.1. Setup: Installing Required Tools"
   ]
  },
  {
   "cell_type": "markdown",
   "id": "0892e99b-4adc-4a46-b090-0df6b05f083a",
   "metadata": {},
   "source": [
    "This step sets up the R enviroment for the scRNA-seq analysis installing Seurat package along with the dependencies ensuring the necessary libraries for this analysis. \n",
    "This step can take over 35 minutes to run"
   ]
  },
  {
   "cell_type": "markdown",
   "id": "d202fb3d-818c-4a04-b0b3-ca244a47c5f7",
   "metadata": {},
   "source": [
    "<div class=\"alert alert-block alert-info\">Tip: If using the Miniforge install, run the following code cells by removing the # pound from each command line. </div>"
   ]
  },
  {
   "cell_type": "code",
   "execution_count": null,
   "id": "9a5789fb-51b9-423b-a9c6-e18c51c5534e",
   "metadata": {},
   "outputs": [],
   "source": [
    "# Enter commands in R (or R studio, if installed)\n",
    "#install.packages('Seurat')"
   ]
  },
  {
   "cell_type": "code",
   "execution_count": null,
   "id": "1b84080f-bfdf-4aad-b93f-d752c711bd2c",
   "metadata": {},
   "outputs": [],
   "source": [
    "#setRepositories(ind = 1:3, addURLs = c('https://satijalab.r-universe.dev', 'https://bnprks.r-universe.dev/'))\n",
    "#install.packages(c(\"BPCells\", \"presto\", \"glmGamPoi\"))"
   ]
  },
  {
   "cell_type": "code",
   "execution_count": null,
   "id": "371526b5-64d5-40eb-b0d0-468ef4d35dd3",
   "metadata": {},
   "outputs": [],
   "source": [
    "# Install packages if not already installed\n",
    "#if (!requireNamespace(\"BiocManager\", quietly = TRUE))\n",
    "#  install.packages(\"BiocManager\")\n",
    "\n",
    "#BiocManager::install(c(\"patchwork\", \"ggplot2\", \"cowplot\", \"dplyr\", \"fastmap\"), force = TRUE)"
   ]
  },
  {
   "cell_type": "code",
   "execution_count": null,
   "id": "b629a5df-6f2e-406a-8f9d-384bb5131ff3",
   "metadata": {},
   "outputs": [],
   "source": [
    "# Install the remotes package\n",
    "#if (!requireNamespace(\"remotes\", quietly = TRUE)) {\n",
    "#  install.packages(\"remotes\")\n",
    "#}\n",
    "#install.packages('Signac')\n",
    "#remotes::install_github(\"satijalab/seurat-data\", quiet = TRUE)\n",
    "#remotes::install_github(\"satijalab/azimuth\", quiet = TRUE)\n",
    "#remotes::install_github(\"satijalab/seurat-wrappers\", quiet = TRUE)"
   ]
  },
  {
   "cell_type": "markdown",
   "id": "daa30e53-26a4-46e8-99f1-2e6ba82a3139",
   "metadata": {},
   "source": [
    "----------------------------------------------------"
   ]
  },
  {
   "cell_type": "markdown",
   "id": "c4a2bab7-c8e1-46be-a428-64f3124acd2a",
   "metadata": {},
   "source": [
    "## If running from a container, as noted above, start with <b> STEP 1.2 </b> below:"
   ]
  },
  {
   "cell_type": "markdown",
   "id": "a68ee657-7dc9-47fd-b9e6-4e914983a1ef",
   "metadata": {},
   "source": [
    "### STEP 1.2: Load Libraries & Setup Directories"
   ]
  },
  {
   "cell_type": "code",
   "execution_count": null,
   "id": "639b891a-bec3-4ed1-a7d2-44d0dfa900e2",
   "metadata": {},
   "outputs": [],
   "source": [
    "# Load libraries for scRNA-seq analysis\n",
    "library(dplyr)\n",
    "library(Seurat)\n",
    "library(patchwork)\n",
    "library(ggplot2)\n",
    "library(cowplot)\n",
    "library(dplyr)"
   ]
  },
  {
   "cell_type": "markdown",
   "id": "3c9d2f45-4ace-497b-a901-6d9b80700cbe",
   "metadata": {},
   "source": [
    "Create necessary directories to store data"
   ]
  },
  {
   "cell_type": "code",
   "execution_count": null,
   "id": "82909a24-c835-4eeb-bd21-550dea9966be",
   "metadata": {},
   "outputs": [],
   "source": [
    "dir.create(\"data\", recursive = TRUE)\n",
    "dir.create(\"data/raw_data\")\n",
    "dir.create(\"data/seurat_output\")"
   ]
  },
  {
   "cell_type": "markdown",
   "id": "3e959f24-ddcd-438a-aa5c-bcfab7d01f67",
   "metadata": {},
   "source": [
    "## STEP 2. Experimental Design / Dataset¶"
   ]
  },
  {
   "cell_type": "markdown",
   "id": "6688b5de-433c-47ea-a994-da876af338a5",
   "metadata": {},
   "source": [
    "This step downloading and preparing the raw scRNA-seq data from the GEO database GSE167013. The code first download 10x Genomics scRNA-seq data for further analysis by Seurat. It downloads the data, organizes it into a Seurat-compatible format, and loads it for downstream processing and renames the extracted files to match Seurat's expected file naming conventions. "
   ]
  },
  {
   "cell_type": "code",
   "execution_count": null,
   "id": "c7e00a78-75fc-4be6-b538-8efa339c808a",
   "metadata": {},
   "outputs": [],
   "source": [
    "# Download the supplementary data (TAR file) from GEO\n",
    "system(\"wget -O data/raw_data/GSE167013_RAW.tar 'https://ftp.ncbi.nlm.nih.gov/geo/series/GSE167nnn/GSE167013/suppl/GSE167013_RAW.tar'\")"
   ]
  },
  {
   "cell_type": "code",
   "execution_count": null,
   "id": "ed7e1dba-151a-429e-8ac3-3a5cf4b13e0a",
   "metadata": {},
   "outputs": [],
   "source": [
    "# Extract the TAR file\n",
    "system(\"tar -xvf data/raw_data/GSE167013_RAW.tar -C data/raw_data\")\n",
    "\n",
    "# Create the GSM5090775 directory if it doesn't exist\n",
    "dir.create(\"data/raw_data/GSM5090774\", recursive = TRUE)\n",
    "\n",
    "# Rename the extracted GSM5090775 files to match Seurat's expected names\n",
    "system(\"mv data/raw_data/GSM5090774_CTX_barcodes.tsv.gz data/raw_data/GSM5090774/barcodes.tsv.gz\")\n",
    "system(\"mv data/raw_data/GSM5090774_CTX_features.tsv.gz data/raw_data/GSM5090774/features.tsv.gz\")\n",
    "system(\"mv data/raw_data/GSM5090774_CTX_matrix.mtx.gz data/raw_data/GSM5090774/matrix.mtx.gz\")"
   ]
  },
  {
   "cell_type": "markdown",
   "id": "f508a9bb-bbbc-404f-846f-906fadd48b40",
   "metadata": {},
   "source": [
    "Once the raw data is organized into the correct format, it is loaded into R using the Read10X function, which is designed to read gene expression matrices generated by 10X Genomics. This function reads three essential files—barcodes, features (genes), and the expression matrix (counts)—and organizes them into a format suitable for further analysis.\n",
    "\n",
    "Next, the CreateSeuratObject function is used to convert this data into a Seurat object, which is the core data structure for scRNA-seq analysis in Seurat. This object stores the gene expression data alongside associated metadata. "
   ]
  },
  {
   "cell_type": "code",
   "execution_count": null,
   "id": "994b452e-c04d-4245-ad6e-dc4ea18e006c",
   "metadata": {},
   "outputs": [],
   "source": [
    "# Load data\n",
    "data_dir <- \"data/raw_data/GSM5090774\"\n",
    "scrna.data  <- Read10X(data.dir = data_dir)\n",
    "\n",
    "# Create a Seurat object\n",
    "scrna <- CreateSeuratObject(counts = scrna.data, project = \"Mouse_scRNA\", min.cells = 3, min.features = 200)\n",
    "scrna"
   ]
  },
  {
   "cell_type": "markdown",
   "id": "a0bf74d4-8631-4387-ac80-33552b198a1b",
   "metadata": {},
   "source": [
    "<div class=\"alert alert-block alert-warning\"> <b>NOTE</b>: If you receive a warning that states that Read10X is not a recognized function after running the above code cell then try restarting the notebook kernel and re-execute the code cell.</div>"
   ]
  },
  {
   "cell_type": "markdown",
   "id": "d1ac653b-7fcc-4137-bd0f-1685b6c81ef7",
   "metadata": {},
   "source": [
    "## STEP 3. Quality Control, Filtering, and Normalization"
   ]
  },
  {
   "cell_type": "markdown",
   "id": "d97e672f-63f4-407c-a35a-82b4991c5208",
   "metadata": {},
   "source": [
    "This step performs quality control on the scRNA-seq data by calculating the percentage of mitochondrial gene expression, visualizing key metrics such as gene counts, RNA counts, and mitochondrial content using violin and scatter plots, filtering cells based on these metrics to remove low-quality cells, and normalizing the gene expression data to prepare it for further analysis."
   ]
  },
  {
   "cell_type": "code",
   "execution_count": null,
   "id": "37f2dfda-ba82-4c8b-aa89-bf3e372969f4",
   "metadata": {},
   "outputs": [],
   "source": [
    "# Quality control\n",
    "scrna[[\"percent.mt\"]] <- PercentageFeatureSet(scrna, pattern = \"^mt-\")\n",
    "\n",
    "# Plot QC metrics\n",
    "VlnPlot(scrna, features = c(\"nFeature_RNA\", \"nCount_RNA\", \"percent.mt\"), ncol = 3)\n",
    "\n",
    "# FeatureScatter is typically used to visualize feature-feature relationships, but can be used\n",
    "# for anything calculated by the object, i.e. columns in object metadata, PC scores etc.\n",
    "\n",
    "plot1 <- FeatureScatter(scrna, feature1 = \"nCount_RNA\", feature2 = \"percent.mt\")\n",
    "plot2 <- FeatureScatter(scrna, feature1 = \"nCount_RNA\", feature2 = \"nFeature_RNA\")\n",
    "plot1 + plot2\n",
    "\n",
    "# Filter cells based on QC metrics\n",
    "scrna <- subset(scrna, subset = nFeature_RNA > 200 & nFeature_RNA < 2500 & percent.mt < 5)\n",
    "\n",
    "# Normalize the data\n",
    "scrna <- NormalizeData(scrna, normalization.method = \"LogNormalize\", scale.factor = 10000)\n"
   ]
  },
  {
   "cell_type": "markdown",
   "id": "aea7a893-abd0-462d-b71b-d171b4d4166c",
   "metadata": {},
   "source": [
    "## STEP 4. Identifying Highly Variable Genes"
   ]
  },
  {
   "cell_type": "markdown",
   "id": "c47d7144-e5e3-448b-adb2-0571f3214d28",
   "metadata": {},
   "source": [
    "This step identifies the top 2,000 highly variable genes in the scRNA-seq dataset using the variance-stabilizing transformation (VST) method, which highlights genes that show significant variability across cells, often indicative of biological differences. It then plots these variable genes using the VariableFeaturePlot, and labels the top 10 most variable genes in the dataset, providing a visual representation of genes that are likely to contribute to key cell distinctions."
   ]
  },
  {
   "cell_type": "code",
   "execution_count": null,
   "id": "ae4ad027-efa6-46f8-a12b-9d0a3acba3a0",
   "metadata": {},
   "outputs": [],
   "source": [
    "# Identify highly variable genes\n",
    "scrna <- FindVariableFeatures(scrna, selection.method = \"vst\", nfeatures = 2000)\n",
    "top10 <- head(VariableFeatures(scrna), 10)\n",
    "\n",
    "# plot variable features with and without labels\n",
    "plot1 <- VariableFeaturePlot(scrna)\n",
    "plot2 <- LabelPoints(plot = plot1, points = top10, repel = TRUE)\n",
    "plot1 + plot2"
   ]
  },
  {
   "cell_type": "markdown",
   "id": "07ed132a-2a2a-485a-b95e-7a1128413221",
   "metadata": {},
   "source": [
    "## STEP 5. Labeling Cell Types"
   ]
  },
  {
   "cell_type": "markdown",
   "id": "b8df06a5-d603-4634-8bd2-674723e35d0a",
   "metadata": {},
   "source": [
    "This step scales the gene expression data for all genes in the dataset, ensuring that each gene contributes equally to the analysis. PCA is then run using only the previously identified highly variable genes to reduce the dimensionality of the data, capturing the most important sources of variation. The VizDimLoadings function visualizes the contribution of individual genes to the first two principal components, helping identify which genes drive the most variability in the dataset."
   ]
  },
  {
   "cell_type": "code",
   "execution_count": null,
   "id": "891f0bf1-3bbd-40b9-99af-5e5988e98c5e",
   "metadata": {},
   "outputs": [],
   "source": [
    "# Run PCA\n",
    "all.genes <- rownames(scrna)\n",
    "scrna <- ScaleData(scrna, features = all.genes)\n",
    "scrna <- RunPCA(scrna, features = VariableFeatures(object = scrna))\n",
    "# Examine and visualize PCA results a few different ways\n",
    "print(scrna[[\"pca\"]], dims = 1:5, nfeatures = 10)\n",
    "VizDimLoadings(scrna, dims = 1:2, reduction = \"pca\")"
   ]
  },
  {
   "cell_type": "markdown",
   "id": "576d90ca-a5e9-4116-a985-fcf602200159",
   "metadata": {},
   "source": [
    "## STEP 6. PCA and heatmap plots"
   ]
  },
  {
   "cell_type": "markdown",
   "id": "dec2db83-491e-432e-b981-f8344a050461",
   "metadata": {},
   "source": [
    "This section of the code focuses on clustering and visualizing the scRNA-seq data. First, it generates a PCA plot (DimPlot) to visualize the principal components that summarize the variation across cells. Then, heatmaps are plotted for the top variable genes, showing their expression across cells, followed by an elbow plot to help select the optimal number of principal components (PCs) for downstream analysis."
   ]
  },
  {
   "cell_type": "code",
   "execution_count": null,
   "id": "46dc8405-5b2c-418f-a686-4df7e0850902",
   "metadata": {},
   "outputs": [],
   "source": [
    "#PCA plot\n",
    "DimPlot(scrna, reduction = \"pca\")"
   ]
  },
  {
   "cell_type": "code",
   "execution_count": null,
   "id": "3c239916-bec4-4e60-a9e9-fd62cc1b590d",
   "metadata": {},
   "outputs": [],
   "source": [
    "# Heatmap of top variable genes\n",
    "DimHeatmap(scrna, dims = 1, cells = 500, balanced = TRUE)\n",
    "DimHeatmap(scrna, dims = 1:15, cells = 500, balanced = TRUE)"
   ]
  },
  {
   "cell_type": "code",
   "execution_count": null,
   "id": "2ffd188f-dc26-4d93-b691-cfb3d7a5774e",
   "metadata": {},
   "outputs": [],
   "source": [
    "# Elbow plot to determine optimal number of PCs\n",
    "ElbowPlot(scrna)"
   ]
  },
  {
   "cell_type": "markdown",
   "id": "9c305756-6ce0-4655-a7f4-b42b4a709408",
   "metadata": {},
   "source": [
    "## STEP 7. Cluster cells and Run non-linear dimensional reduction (UMAP/tSNE)"
   ]
  },
  {
   "cell_type": "markdown",
   "id": "96ba224b-7ffa-4e17-aae6-e80a762e7938",
   "metadata": {},
   "source": [
    "Next, the code clusters cells using the Louvain algorithm based on their nearest-neighbor graph, after which the UMAP and t-SNE dimensionality reduction techniques are applied to visualize these clusters. These visualizations, presented in UMAP and t-SNE plots, show cell groupings based on gene expression similarities, providing insight into potential distinct cell populations."
   ]
  },
  {
   "cell_type": "code",
   "execution_count": null,
   "id": "ad505701-20b6-452e-bfa4-0ff5e91dca0a",
   "metadata": {},
   "outputs": [],
   "source": [
    "# Identify clusters\n",
    "scrna <- FindNeighbors(scrna, dims = 1:10)\n",
    "scrna <- FindClusters(scrna, resolution = 0.5)"
   ]
  },
  {
   "cell_type": "code",
   "execution_count": null,
   "id": "231bddeb-0e39-4951-8de6-009aa3fdcfbe",
   "metadata": {},
   "outputs": [],
   "source": [
    "# Run UMAP\n",
    "scrna <- RunUMAP(scrna, dims = 1:10)\n",
    "DimPlot(scrna, reduction = \"umap\", label = TRUE)\n",
    "saveRDS(scrna, file = \"data/seurat_output/scrna_tutorial.rds\")"
   ]
  },
  {
   "cell_type": "code",
   "execution_count": null,
   "id": "c1eaed27-2989-4af9-a256-9482347c49c5",
   "metadata": {},
   "outputs": [],
   "source": [
    "# Run t-SNE\n",
    "scrna <- RunTSNE(scrna, dims = 1:10)\n",
    "DimPlot(scrna, reduction = \"tsne\", label = TRUE)"
   ]
  },
  {
   "cell_type": "markdown",
   "id": "5104ddf3-3a6e-4e41-ba42-3ee7d2d32b97",
   "metadata": {},
   "source": [
    "## STEP 8. Differentially expressed features"
   ]
  },
  {
   "cell_type": "markdown",
   "id": "bee4c761-32c2-4a60-ae70-2ad483031d32",
   "metadata": {},
   "source": [
    "This section of the code identifies and visualizes key marker genes for cell clusters in the scRNA-seq data. First, it finds the differentially expressed genes for cluster 2 and then does the same for all clusters, filtering for genes with a log-fold change greater than 1. The code also highlights the markers for specific clusters (e.g., cluster 0) using the ROC method.\n",
    "Also, Violin plots, feature plots, and a heatmap were used to visualize the gene expression patterns and marker genes across different cell clusters in the scRNA-seq data."
   ]
  },
  {
   "cell_type": "code",
   "execution_count": null,
   "id": "c07281a3-e147-475e-8ce5-d1d01957ffd0",
   "metadata": {},
   "outputs": [],
   "source": [
    "# find all markers of cluster 2\n",
    "cluster2.markers <- FindMarkers(scrna, ident.1 = 2)\n",
    "head(cluster2.markers, n = 5)"
   ]
  },
  {
   "cell_type": "code",
   "execution_count": null,
   "id": "9bcfb182-28e2-4772-b340-bdc80929cc7c",
   "metadata": {},
   "outputs": [],
   "source": [
    "# find markers for every cluster compared to all remaining cells, report only the positive ones\n",
    "scrna.markers <- FindAllMarkers(scrna, only.pos = TRUE)\n",
    "scrna.markers %>%\n",
    "    group_by(cluster) %>%\n",
    "    dplyr::filter(avg_log2FC > 1)\n",
    "\n",
    "write.csv(scrna.markers, \"data/seurat_output/cluster_markers.csv\", row.names = FALSE)"
   ]
  },
  {
   "cell_type": "code",
   "execution_count": null,
   "id": "b09a24b8-1c77-4d07-9f88-c5c4ca49ed89",
   "metadata": {},
   "outputs": [],
   "source": [
    "cluster0.markers <- FindMarkers(scrna, ident.1 = 0, logfc.threshold = 0.25, test.use = \"roc\", only.pos = TRUE)\n",
    "head(cluster0.markers, 10)"
   ]
  },
  {
   "cell_type": "code",
   "execution_count": null,
   "id": "327b97a7-b118-44b1-8ece-4ac65476f75a",
   "metadata": {},
   "outputs": [],
   "source": [
    "# Assuming you have identified highly variable genes using FindVariableFeatures\n",
    "top_genes <- head(VariableFeatures(scrna), 10)  # Get top 10 highly variable genes\n",
    "VlnPlot(scrna, features = top_genes)"
   ]
  },
  {
   "cell_type": "code",
   "execution_count": null,
   "id": "24ccdb86-7002-43b6-a577-7840dbda2fb8",
   "metadata": {},
   "outputs": [],
   "source": [
    "# Violin Plot\n",
    "VlnPlot(scrna, features = c(\"Hba-x\", \"Nudt4\"))"
   ]
  },
  {
   "cell_type": "code",
   "execution_count": null,
   "id": "c90bb51d-6059-4fc9-b370-90fe5bd8cb2c",
   "metadata": {},
   "outputs": [],
   "source": [
    "FeaturePlot(scrna, features = c(\"Hba-x\", \"Nudt4\", \"Hbb-bh1\", \"Gpx1\", \"Gypa\", \"Car2\", \"Alas2\", \"Hmox1\",\n",
    "    \"Col3a1\", \"Hbb-bh0\"))"
   ]
  },
  {
   "cell_type": "code",
   "execution_count": null,
   "id": "024c2683-9688-4a47-bf52-fa1bd66a805c",
   "metadata": {},
   "outputs": [],
   "source": [
    "scrna.markers %>%\n",
    "    group_by(cluster) %>%\n",
    "    dplyr::filter(avg_log2FC > 1) %>%\n",
    "    slice_head(n = 10) %>%\n",
    "    ungroup() -> top10\n",
    "DoHeatmap(scrna, features = top10$gene)"
   ]
  },
  {
   "cell_type": "markdown",
   "id": "820ca73d-f430-4e60-af52-0d81539ed940",
   "metadata": {},
   "source": [
    "## STEP 9. Assigning cell type identity to clusters"
   ]
  },
  {
   "cell_type": "markdown",
   "id": "3eeaeca8-0046-45ae-a87e-1f3ef8b65bb8",
   "metadata": {},
   "source": [
    "This section of the code renames the cell clusters with more meaningful biological identities, based on prior knowledge of the cell types. It uses the RenameIdents function to assign these names to the identified clusters.\n",
    "\n",
    "Next, it creates a UMAP (Uniform Manifold Approximation and Projection) plot, which visualizes the clusters of cells in two dimensions, with labels for each cluster. The plot is customized with larger labels and axes using ggplot2 for clear visualization. The final UMAP plot is then saved as a JPEG image file (scrna3k_umap.jpg), showing the distinct cell populations with their assigned identities in the scRNA-seq dataset."
   ]
  },
  {
   "cell_type": "code",
   "execution_count": null,
   "id": "af273090-9c6f-4d0c-ba70-c1c42756c5ac",
   "metadata": {},
   "outputs": [],
   "source": [
    "new.cluster.ids <- c(\"Prolif\", \"Neurons\", \"Prolif\", \"Neuro Dev\", \"OPCs\", \"Neurogenesis\", \n",
    "    \"Erythro\", \"Mitosis\", \"ECM\", \"Neuro Sign\", \"Microglia\")\n",
    "names(new.cluster.ids) <- levels(scrna)\n",
    "scrna <- RenameIdents(scrna, new.cluster.ids)\n",
    "DimPlot(scrna, reduction = \"umap\", label = TRUE, pt.size = 0.5) + NoLegend()"
   ]
  },
  {
   "cell_type": "code",
   "execution_count": null,
   "id": "e2587f46-335e-4a75-b6df-118be3bf624d",
   "metadata": {},
   "outputs": [],
   "source": [
    "library(ggplot2)\n",
    "plot <- DimPlot(scrna, reduction = \"umap\", label = TRUE, label.size = 4.5) + xlab(\"UMAP 1\") + ylab(\"UMAP 2\") +\n",
    "    theme(axis.title = element_text(size = 18), legend.text = element_text(size = 18)) + guides(colour = guide_legend(override.aes = list(size = 10)))\n",
    "ggsave(filename = \"data/seurat_output/scrna3k_umap.jpg\", height = 7, width = 12, plot = plot, quality = 50)"
   ]
  },
  {
   "cell_type": "code",
   "execution_count": null,
   "id": "d8715945-6f85-4123-8aa1-ac0c43f1425a",
   "metadata": {},
   "outputs": [],
   "source": [
    "saveRDS(scrna, file = \"data/seurat_output/scrna3k_final.rds\")"
   ]
  }
 ],
 "metadata": {
  "kernelspec": {
   "display_name": "R",
   "language": "R",
   "name": "ir"
  },
  "language_info": {
   "codemirror_mode": "r",
   "file_extension": ".r",
   "mimetype": "text/x-r-source",
   "name": "R",
   "pygments_lexer": "r",
   "version": "4.4.3"
  }
 },
 "nbformat": 4,
 "nbformat_minor": 5
}
