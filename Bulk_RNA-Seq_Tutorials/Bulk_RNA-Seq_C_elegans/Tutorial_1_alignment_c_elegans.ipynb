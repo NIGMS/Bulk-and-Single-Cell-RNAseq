{
 "cells": [
  {
   "cell_type": "markdown",
   "metadata": {},
   "source": [
    "# Bulk RNA-Seq Analysis Training Demo"
   ]
  },
  {
   "cell_type": "markdown",
   "metadata": {},
   "source": [
    "## Overview"
   ]
  },
  {
   "cell_type": "markdown",
   "metadata": {},
   "source": [
    "This short tutorial demonstrates how to run an RNA-Seq workflow using a subsampling Caenorhabditis elegans dataset. Steps in the workflow include read trimming, read QC, read mapping, and counting mapped reads per gene to quantitate gene expression. This tutorial workflow uses truncated and partial run data from the Rochester JD et al. project.\n",
    "\n",
    "This tutorial can take over 17 minutes to run the code fully, with a `ml.t3.medium` instance, because of the limited memory we are using a subsampled dataset from Rochester JD et al. from chr I and 1,000,000 reads each sample. This is part of the reason we have a short and easy introductory tutorial, but provide a longer more full tutorial for those interested."
   ]
  },
  {
   "cell_type": "markdown",
   "metadata": {},
   "source": [
    "## STEP 1: Getting Started"
   ]
  },
  {
   "cell_type": "markdown",
   "metadata": {},
   "source": [
    "<div class=\"alert alert-block alert-warning\"> NOTE: This Jupyter Notebook was developed to run within a customized container on AWS with all software and tools pre-configured. If running without this customized container, you will need to install tools using the Miniforge environment setup instructions below before moving on to Step 2.</div>"
   ]
  },
  {
   "cell_type": "markdown",
   "metadata": {},
   "source": [
    "### Without Container: Install Miniforge and Workflow Tools"
   ]
  },
  {
   "cell_type": "markdown",
   "metadata": {},
   "source": [
    "Miniforge is a lightweight Conda distribution that offers a streamlined installation process and efficient package management. It provides access to a vast repository of packages.\n",
    "\n",
    "Conda packages and environments are useful for several reasons. Conda packages contain metadata. This metadata includes information about what other programs the given software needs to be installed, in order to run. When installing a package with Conda, those other packages are automatically also installed. In this way, the user does not have to worry about manually installing each dependency. This makes installation quick and simple.\n",
    "\n",
    "These packages are installed inside of environments, which are simply folders within the local installation of Conda. This has several benefits. Local installation means easier installation for non-admin users who may not have access to all system directories. Each environment can hold specific software with specific versions, and it easy to swap to different environments. In addition, the environments themselves are portable, as each environment contains a manifest on how to recreate that environment.\n",
    "\n",
    "Miniforge itself is a Conda package manager, this means it requires Conda in order to work. It is used to install and update Conda packages, which it gets from a ‘channel’, or repository. It is an alternative to the native Conda package manager. It is often used for reasons of speed.\n",
    "\n",
    "Bioconda is a ‘channel’, or repository, that the Mambaforge package manager can download packages from. It is a repository of Conda packages that are related to biology. These packages are versions of popular biology software that are curated and uploaded by contributing users.\n",
    "\n",
    "The following code performs these steps:\n",
    "- Downloads Miniforge or Mambaforge (you can use either based on preference)\n",
    "- Installs Miniforge (or Mambaforge) - no need to install conda since mamba will be available immediately\n",
    "- Using miniforge and bioconda, installs the tools that will be used in this tutorial"
   ]
  },
  {
   "cell_type": "markdown",
   "metadata": {},
   "source": [
    "<div class=\"alert alert-block alert-info\">Tip: If using the Miniforge install, run the following code cells by removing the %%script false command. </div>"
   ]
  },
  {
   "cell_type": "code",
   "execution_count": 1,
   "metadata": {},
   "outputs": [
    {
     "name": "stdout",
     "output_type": "stream",
     "text": [
      "11:14:13\n"
     ]
    }
   ],
   "source": [
    "#%%script false --no-raise-error\n",
    "# Download Miniforge or Mambaforge (you can use either based on preference)\n",
    "!curl -L -O https://github.com/conda-forge/miniforge/releases/latest/download/Miniforge3-$(uname)-$(uname -m).sh > /dev/null 2>&1\n",
    "\n",
    "# Install Miniforge (or Mambaforge) - no need to install conda since mamba will be available immediately\n",
    "!bash Miniforge3-$(uname)-$(uname -m).sh -b -u -p $HOME/miniforge > /dev/null 2>&1\n",
    "!date +\"%T\""
   ]
  },
  {
   "cell_type": "markdown",
   "metadata": {},
   "source": [
    "Next, using miniforge and bioconda, install the tools that will be used in this tutorial."
   ]
  },
  {
   "cell_type": "code",
   "execution_count": 2,
   "metadata": {},
   "outputs": [
    {
     "name": "stdout",
     "output_type": "stream",
     "text": [
      "\u001b[33m\u001b[1mwarning  libmamba\u001b[m Could not parse mod/etag header\n",
      "\u001b[33m\u001b[1mwarning  libmamba\u001b[m Could not parse mod/etag header\n",
      "\u001b[33m\u001b[1mwarning  libmamba\u001b[m Could not parse mod/etag header\n",
      "\u001b[33m\u001b[1mwarning  libmamba\u001b[m Could not parse mod/etag header\n",
      "\u001b[33m\u001b[1mwarning  libmamba\u001b[m Could not parse mod/etag header\n",
      "\u001b[33m\u001b[1mwarning  libmamba\u001b[m Could not parse mod/etag header\n"
     ]
    }
   ],
   "source": [
    "#%%script false --no-raise-error\n",
    "# Update PATH to point to the Miniforge (or Mambaforge) bin files\n",
    "import os\n",
    "os.environ[\"PATH\"] += os.pathsep + os.environ[\"HOME\"]+\"/miniforge/bin\"\n",
    "\n",
    "# Now use mamba directly to install your software packages\n",
    "!mamba install -y -c conda-forge -c bioconda trimmomatic fastqc multiqc sql-magic entrez-direct gffread parallel-fastq-dump sra-tools pyathena samtools star rsem subread pigz -y > /dev/null"
   ]
  },
  {
   "cell_type": "markdown",
   "metadata": {},
   "source": [
    "---------------------------------------\n",
    "## If running from a container, as noted above, start with <b> STEP 2 </b> below:\n",
    "## STEP 2: Define Threads & Setup Directory Structures"
   ]
  },
  {
   "cell_type": "markdown",
   "metadata": {},
   "source": [
    "Create a set of directories to store the reads, reference sequence files, and output files."
   ]
  },
  {
   "cell_type": "code",
   "execution_count": 3,
   "metadata": {},
   "outputs": [
    {
     "name": "stdout",
     "output_type": "stream",
     "text": [
      "/home/ec2-user/SageMaker/Bulk-and-Single-Cell-RNAseq/Bulk_RNA-Seq_Tutorials/Bulk_RNA-Seq_C_elegans\n"
     ]
    }
   ],
   "source": [
    "!cd $HOMEDIR\n",
    "!echo $PWD\n",
    "!mkdir -p data_1\n",
    "!mkdir -p data_1/trunc_rawfastq\n",
    "!mkdir -p data_1/trimmed\n",
    "!mkdir -p data_1/fastqc\n",
    "!mkdir -p data_1/fastqc_samples/\n",
    "!mkdir -p data_1/reference\n",
    "!mkdir -p data_1/raw_fastq\n",
    "!mkdir -p data_1/aligned_bam\n",
    "!mkdir -p data_1/rsem_reference/celegans_rsem_reference\n",
    "!mkdir -p data_1/rsem_output\n",
    "!mkdir -p data_1/reference/STAR_index\n",
    "!mkdir -p data_1/gene_counts\n",
    "!mkdir -p data_1/multiqc_samples"
   ]
  },
  {
   "cell_type": "markdown",
   "metadata": {},
   "source": [
    "Specify the number of available threads based on the VM.\n",
    "\n",
    "This is useful for later tools such as trimmomatic, or STAR."
   ]
  },
  {
   "cell_type": "code",
   "execution_count": 4,
   "metadata": {},
   "outputs": [
    {
     "name": "stdout",
     "output_type": "stream",
     "text": [
      "Number of threads: 15\n"
     ]
    }
   ],
   "source": [
    "import multiprocessing\n",
    "import os\n",
    "\n",
    "num_cores = multiprocessing.cpu_count()\n",
    "THREADS = max(1, num_cores - 1)\n",
    "\n",
    "print(\"Number of threads:\", THREADS)\n",
    "os.environ[\"THREADS\"] = str(THREADS)"
   ]
  },
  {
   "cell_type": "markdown",
   "metadata": {},
   "source": [
    "## STEP 3: Downloading relevant files\n",
    "\n"
   ]
  },
  {
   "cell_type": "markdown",
   "metadata": {},
   "source": [
    "### STEP 3.1: Finding run accession numbers.\n"
   ]
  },
  {
   "cell_type": "markdown",
   "metadata": {},
   "source": [
    "This code retrieves the SRR IDs associated with project PRJNA625528 from the NCBI database and saves them to a .txt file"
   ]
  },
  {
   "cell_type": "code",
   "execution_count": 5,
   "metadata": {},
   "outputs": [
    {
     "name": "stdout",
     "output_type": "stream",
     "text": [
      "SRR11550221\n",
      "SRR11550223\n",
      "SRR11550225\n",
      "SRR11550227\n",
      "SRR11550229\n",
      "SRR11550231\n"
     ]
    }
   ],
   "source": [
    "!esearch -db sra -query \"PRJNA625528\" | efetch -format runinfo | cut -d',' -f1 | tail -n +2 > all_accs.txt\n",
    "!grep -E \"SRR11550221|SRR11550223|SRR11550225|SRR11550227|SRR11550229|SRR11550231\" all_accs.txt > accs.txt\n",
    "!cat accs.txt"
   ]
  },
  {
   "cell_type": "markdown",
   "metadata": {},
   "source": [
    "### STEP 3.2: Download subsampling FASTQ files from S3 bucket"
   ]
  },
  {
   "cell_type": "markdown",
   "metadata": {},
   "source": [
    "In order for this tutorial to run quickly, we will only analyze 1,000,000 reads from each of the six samples in PRJNA625528. These subsampled files have been posted on a publicly accessible S3 bucket.\n",
    "\n",
    "The code will connect to the S3 bucket and download the paired-end FASTQ files for each SRR."
   ]
  },
  {
   "cell_type": "code",
   "execution_count": 6,
   "metadata": {},
   "outputs": [],
   "source": [
    "#Load SRR IDs from accs.txt (if available)\n",
    "with open('accs.txt', 'r') as f:\n",
    "    accs = [line.strip() for line in f.readlines()]"
   ]
  },
  {
   "cell_type": "code",
   "execution_count": 7,
   "metadata": {},
   "outputs": [
    {
     "name": "stdout",
     "output_type": "stream",
     "text": [
      "--2025-05-12 11:16:43--  https://nigms-sandbox.s3.us-east-1.amazonaws.com/bulk-scRNAseq/fastqfiles/subsampledchr1_celegans_SRR11550221.fastq\n",
      "Resolving nigms-sandbox.s3.us-east-1.amazonaws.com (nigms-sandbox.s3.us-east-1.amazonaws.com)... 3.5.31.21, 52.216.58.26, 16.182.104.98, ...\n",
      "Connecting to nigms-sandbox.s3.us-east-1.amazonaws.com (nigms-sandbox.s3.us-east-1.amazonaws.com)|3.5.31.21|:443... connected.\n",
      "HTTP request sent, awaiting response... 200 OK\n",
      "Length: 177726603 (169M) [binary/octet-stream]\n",
      "Saving to: ‘data_1/raw_fastq/subsampledchr1_celegans_SRR11550221.fastq’\n",
      "\n",
      "subsampledchr1_cele 100%[===================>] 169.49M  36.9MB/s    in 4.5s    \n",
      "\n",
      "2025-05-12 11:16:48 (37.3 MB/s) - ‘data_1/raw_fastq/subsampledchr1_celegans_SRR11550221.fastq’ saved [177726603/177726603]\n",
      "\n",
      "--2025-05-12 11:16:48--  https://nigms-sandbox.s3.us-east-1.amazonaws.com/bulk-scRNAseq/fastqfiles/subsampledchr1_celegans_SRR11550223.fastq\n",
      "Resolving nigms-sandbox.s3.us-east-1.amazonaws.com (nigms-sandbox.s3.us-east-1.amazonaws.com)... 52.217.193.2, 52.217.165.194, 54.231.128.122, ...\n",
      "Connecting to nigms-sandbox.s3.us-east-1.amazonaws.com (nigms-sandbox.s3.us-east-1.amazonaws.com)|52.217.193.2|:443... connected.\n",
      "HTTP request sent, awaiting response... 200 OK\n",
      "Length: 177693419 (169M) [binary/octet-stream]\n",
      "Saving to: ‘data_1/raw_fastq/subsampledchr1_celegans_SRR11550223.fastq’\n",
      "\n",
      "subsampledchr1_cele 100%[===================>] 169.46M  35.3MB/s    in 4.6s    \n",
      "\n",
      "2025-05-12 11:16:53 (37.0 MB/s) - ‘data_1/raw_fastq/subsampledchr1_celegans_SRR11550223.fastq’ saved [177693419/177693419]\n",
      "\n",
      "--2025-05-12 11:16:53--  https://nigms-sandbox.s3.us-east-1.amazonaws.com/bulk-scRNAseq/fastqfiles/subsampledchr1_celegans_SRR11550225.fastq\n",
      "Resolving nigms-sandbox.s3.us-east-1.amazonaws.com (nigms-sandbox.s3.us-east-1.amazonaws.com)... 52.216.49.114, 52.217.133.154, 52.217.164.194, ...\n",
      "Connecting to nigms-sandbox.s3.us-east-1.amazonaws.com (nigms-sandbox.s3.us-east-1.amazonaws.com)|52.216.49.114|:443... connected.\n",
      "HTTP request sent, awaiting response... 200 OK\n",
      "Length: 177669755 (169M) [binary/octet-stream]\n",
      "Saving to: ‘data_1/raw_fastq/subsampledchr1_celegans_SRR11550225.fastq’\n",
      "\n",
      "subsampledchr1_cele 100%[===================>] 169.44M  37.4MB/s    in 4.5s    \n",
      "\n",
      "2025-05-12 11:16:57 (37.5 MB/s) - ‘data_1/raw_fastq/subsampledchr1_celegans_SRR11550225.fastq’ saved [177669755/177669755]\n",
      "\n",
      "--2025-05-12 11:16:58--  https://nigms-sandbox.s3.us-east-1.amazonaws.com/bulk-scRNAseq/fastqfiles/subsampledchr1_celegans_SRR11550227.fastq\n",
      "Resolving nigms-sandbox.s3.us-east-1.amazonaws.com (nigms-sandbox.s3.us-east-1.amazonaws.com)... 3.5.20.42, 16.15.185.12, 52.216.220.66, ...\n",
      "Connecting to nigms-sandbox.s3.us-east-1.amazonaws.com (nigms-sandbox.s3.us-east-1.amazonaws.com)|3.5.20.42|:443... connected.\n",
      "HTTP request sent, awaiting response... 200 OK\n",
      "Length: 177733616 (169M) [binary/octet-stream]\n",
      "Saving to: ‘data_1/raw_fastq/subsampledchr1_celegans_SRR11550227.fastq’\n",
      "\n",
      "subsampledchr1_cele 100%[===================>] 169.50M  39.1MB/s    in 4.3s    \n",
      "\n",
      "2025-05-12 11:17:02 (39.1 MB/s) - ‘data_1/raw_fastq/subsampledchr1_celegans_SRR11550227.fastq’ saved [177733616/177733616]\n",
      "\n",
      "--2025-05-12 11:17:02--  https://nigms-sandbox.s3.us-east-1.amazonaws.com/bulk-scRNAseq/fastqfiles/subsampledchr1_celegans_SRR11550229.fastq\n",
      "Resolving nigms-sandbox.s3.us-east-1.amazonaws.com (nigms-sandbox.s3.us-east-1.amazonaws.com)... 52.216.249.80, 16.15.178.95, 52.216.77.80, ...\n",
      "Connecting to nigms-sandbox.s3.us-east-1.amazonaws.com (nigms-sandbox.s3.us-east-1.amazonaws.com)|52.216.249.80|:443... connected.\n",
      "HTTP request sent, awaiting response... 200 OK\n",
      "Length: 177719352 (169M) [binary/octet-stream]\n",
      "Saving to: ‘data_1/raw_fastq/subsampledchr1_celegans_SRR11550229.fastq’\n",
      "\n",
      "subsampledchr1_cele 100%[===================>] 169.49M  40.2MB/s    in 4.3s    \n",
      "\n",
      "2025-05-12 11:17:07 (39.8 MB/s) - ‘data_1/raw_fastq/subsampledchr1_celegans_SRR11550229.fastq’ saved [177719352/177719352]\n",
      "\n",
      "--2025-05-12 11:17:07--  https://nigms-sandbox.s3.us-east-1.amazonaws.com/bulk-scRNAseq/fastqfiles/subsampledchr1_celegans_SRR11550231.fastq\n",
      "Resolving nigms-sandbox.s3.us-east-1.amazonaws.com (nigms-sandbox.s3.us-east-1.amazonaws.com)... 54.231.199.218, 52.217.87.32, 52.217.85.120, ...\n",
      "Connecting to nigms-sandbox.s3.us-east-1.amazonaws.com (nigms-sandbox.s3.us-east-1.amazonaws.com)|54.231.199.218|:443... connected.\n",
      "HTTP request sent, awaiting response... 200 OK\n",
      "Length: 177722639 (169M) [binary/octet-stream]\n",
      "Saving to: ‘data_1/raw_fastq/subsampledchr1_celegans_SRR11550231.fastq’\n",
      "\n",
      "subsampledchr1_cele 100%[===================>] 169.49M  32.6MB/s    in 5.0s    \n",
      "\n",
      "2025-05-12 11:17:12 (33.7 MB/s) - ‘data_1/raw_fastq/subsampledchr1_celegans_SRR11550231.fastq’ saved [177722639/177722639]\n",
      "\n"
     ]
    }
   ],
   "source": [
    "for acc in accs:\n",
    "    !wget -P data_1/raw_fastq/ https://nigms-sandbox.s3.us-east-1.amazonaws.com/bulk-scRNAseq/fastqfiles/subsampledchr1_celegans_{acc}.fastq"
   ]
  },
  {
   "cell_type": "markdown",
   "metadata": {},
   "source": [
    "### STEP 3.3: Download reference genome and annotation files that will be used by STAR and RSEM"
   ]
  },
  {
   "cell_type": "markdown",
   "metadata": {},
   "source": [
    "This step downloads and unzips reference files for the C. elegans genome and annotations needed by STAR. These reference files will be used by STAR to align RNA-seq reads during the analysis."
   ]
  },
  {
   "cell_type": "code",
   "execution_count": 8,
   "metadata": {},
   "outputs": [
    {
     "name": "stdout",
     "output_type": "stream",
     "text": [
      "--2025-05-12 11:17:12--  https://nigms-sandbox.s3.us-east-1.amazonaws.com/bulk-scRNAseq/reference/celegans_genome.fa\n",
      "Resolving nigms-sandbox.s3.us-east-1.amazonaws.com (nigms-sandbox.s3.us-east-1.amazonaws.com)... 52.217.232.210, 3.5.14.37, 52.217.42.168, ...\n",
      "Connecting to nigms-sandbox.s3.us-east-1.amazonaws.com (nigms-sandbox.s3.us-east-1.amazonaws.com)|52.217.232.210|:443... connected.\n",
      "HTTP request sent, awaiting response... 200 OK\n",
      "Length: 101957874 (97M) [binary/octet-stream]\n",
      "Saving to: ‘data_1/reference/celegans_genome.fa’\n",
      "\n",
      "data_1/reference/ce 100%[===================>]  97.23M  41.1MB/s    in 2.4s    \n",
      "\n",
      "2025-05-12 11:17:15 (41.1 MB/s) - ‘data_1/reference/celegans_genome.fa’ saved [101957874/101957874]\n",
      "\n",
      "--2025-05-12 11:17:15--  https://nigms-sandbox.s3.us-east-1.amazonaws.com/bulk-scRNAseq/reference/celegans_genomic.gtf\n",
      "Resolving nigms-sandbox.s3.us-east-1.amazonaws.com (nigms-sandbox.s3.us-east-1.amazonaws.com)... 52.217.161.34, 3.5.0.70, 52.216.205.174, ...\n",
      "Connecting to nigms-sandbox.s3.us-east-1.amazonaws.com (nigms-sandbox.s3.us-east-1.amazonaws.com)|52.217.161.34|:443... connected.\n",
      "HTTP request sent, awaiting response... 200 OK\n",
      "Length: 225354806 (215M) [binary/octet-stream]\n",
      "Saving to: ‘data_1/reference/celegans_annotation.gtf’\n",
      "\n",
      "data_1/reference/ce 100%[===================>] 214.92M  39.6MB/s    in 5.3s    \n",
      "\n",
      "2025-05-12 11:17:20 (40.4 MB/s) - ‘data_1/reference/celegans_annotation.gtf’ saved [225354806/225354806]\n",
      "\n",
      "--2025-05-12 11:17:21--  https://nigms-sandbox.s3.us-east-1.amazonaws.com/bulk-scRNAseq/reference/celegans_feature_table.txt\n",
      "Resolving nigms-sandbox.s3.us-east-1.amazonaws.com (nigms-sandbox.s3.us-east-1.amazonaws.com)... 52.216.44.90, 52.217.161.154, 16.15.178.169, ...\n",
      "Connecting to nigms-sandbox.s3.us-east-1.amazonaws.com (nigms-sandbox.s3.us-east-1.amazonaws.com)|52.216.44.90|:443... connected.\n",
      "HTTP request sent, awaiting response... 200 OK\n",
      "Length: 22279802 (21M) [text/plain]\n",
      "Saving to: ‘data_1/reference/celegans_feature_table.txt’\n",
      "\n",
      "data_1/reference/ce 100%[===================>]  21.25M  44.3MB/s    in 0.5s    \n",
      "\n",
      "2025-05-12 11:17:21 (44.3 MB/s) - ‘data_1/reference/celegans_feature_table.txt’ saved [22279802/22279802]\n",
      "\n"
     ]
    }
   ],
   "source": [
    "!wget https://nigms-sandbox.s3.us-east-1.amazonaws.com/bulk-scRNAseq/reference/celegans_genome.fa -O data_1/reference/celegans_genome.fa\n",
    "!wget https://nigms-sandbox.s3.us-east-1.amazonaws.com/bulk-scRNAseq/reference/celegans_genomic.gtf -O data_1/reference/celegans_annotation.gtf\n",
    "!wget https://nigms-sandbox.s3.us-east-1.amazonaws.com/bulk-scRNAseq/reference/celegans_feature_table.txt -O data_1/reference/celegans_feature_table.txt"
   ]
  },
  {
   "cell_type": "code",
   "execution_count": 9,
   "metadata": {},
   "outputs": [],
   "source": [
    "# Use samtools to extract only chr1 from the reference genome\n",
    "!samtools faidx data_1/reference/celegans_genome.fa I > data_1/reference/celegans_genome_chr1.fa\n",
    "\n",
    "# Subset the GTF file to include only chr1 annotations\n",
    "!grep \"^I\" data_1/reference/celegans_annotation.gtf > data_1/reference/celegans_annotation_chr1.gtf"
   ]
  },
  {
   "cell_type": "markdown",
   "metadata": {},
   "source": [
    "### STEP 3.4: Copy data file for Trimmomatic\n"
   ]
  },
  {
   "cell_type": "markdown",
   "metadata": {},
   "source": [
    "One of trimmomatics functions is to trim sequence machine specific adapter sequences. These are usually within the trimmomatic installation directory in a folder called adapters.\n",
    "\n",
    "Directories of packages within conda installations can be confusing, so in the case of using conda with trimmomatic, it may be easier to simply download or create a file with the relevant adapter sequencecs and store it in an easy to find directory."
   ]
  },
  {
   "cell_type": "code",
   "execution_count": 10,
   "metadata": {},
   "outputs": [
    {
     "name": "stdout",
     "output_type": "stream",
     "text": [
      "--2025-05-12 11:17:23--  https://nigms-sandbox.s3.us-east-1.amazonaws.com/bulk-scRNAseq/reference/TruSeq3-SE.fa\n",
      "Resolving nigms-sandbox.s3.us-east-1.amazonaws.com (nigms-sandbox.s3.us-east-1.amazonaws.com)... 54.231.228.2, 52.217.126.154, 3.5.12.136, ...\n",
      "Connecting to nigms-sandbox.s3.us-east-1.amazonaws.com (nigms-sandbox.s3.us-east-1.amazonaws.com)|54.231.228.2|:443... connected.\n",
      "HTTP request sent, awaiting response... 200 OK\n",
      "Length: 120 [binary/octet-stream]\n",
      "Saving to: ‘data_1/trimmed/TruSeq3-SE.fa’\n",
      "\n",
      "data_1/trimmed/TruS 100%[===================>]     120  --.-KB/s    in 0s      \n",
      "\n",
      "2025-05-12 11:17:23 (5.25 MB/s) - ‘data_1/trimmed/TruSeq3-SE.fa’ saved [120/120]\n",
      "\n"
     ]
    }
   ],
   "source": [
    "!wget https://nigms-sandbox.s3.us-east-1.amazonaws.com/bulk-scRNAseq/reference/TruSeq3-SE.fa -O data_1/trimmed/TruSeq3-SE.fa"
   ]
  },
  {
   "cell_type": "markdown",
   "metadata": {},
   "source": [
    "## STEP 4: Run Trimmomatic"
   ]
  },
  {
   "cell_type": "markdown",
   "metadata": {},
   "source": [
    "Trimmomatic will trim off any adapter sequences or low quality sequence it detects in the FASTQ files.\n",
    "\n",
    "Trimmomatic takes an input, in this case a forward and reverse FASTQ file, and the user names the outputs. In this case the first two outputs are the ‘paired’ and ‘orphaned’ trimmed files for the forward reads. The second two are the ‘paired’ and ‘orphaned’ trimmed files for the reverse reads.\n",
    "\n",
    "Paired in this case means the forward and reverse sequences were able to be aligned to each other after trimming. Orphaned, or unpaired, typically means one of the reads was discarded as a result of trimming, and only the forward or reverse read survived.\n",
    "\n",
    "Here we take only the file with paired reads, as there are only a few orphaned reads, and including orphaned reads can complicate different downstream analyses. Unless there is a significant amount of them, or a specific reason to use them, it is generally easier to discard unpaired reads. Also in the interest of simplicity and speed, we proceed in further steps with just using the paired-end reads of just the forward-end read files, which in this context is sufficient, however in different contexts, using both forward and reverse is often preferable.\n",
    "\n",
    "The last part of the command specifies how the trimming is done: `ILLUMINACLIP:TruSeq3-PE.fa:2:30:10:2:keepBothReads LEADING:3 TRAILING:3 MINLEN:36`\n",
    "\n",
    "<u>In greater detail</u>:\n",
    "\n",
    "`ILLUMINACLIP:TruSeq3-PE.fa` refers to which adapters should be cut from the reads.\n",
    "\n",
    "`2:30:10:2` refers to various metrics, which are recommended defaults.\n",
    "\n",
    "`2` refers to the seed mismatch. This refers to the amount of mismatches a 'seed' may have in aligning to a possible adapter.\n",
    "\n",
    "`30` refers to the palindrome clip threshold. This refers to the similarity score. If forward and reverse reads, after having an adapter attached to them, are greater than this score, trimming of adapter fragments will be performed. Forward reads are clipped, and reverse reads dropped.\n",
    "\n",
    "`10` refers to the simple clip threshold. The basic, and alternative method to palindromic searching for adapters. Adapters are tested against reads and if sufficiently matched (above the threshold, in this case, 10), they are clipped.\n",
    "\n",
    "`2` refers to the minimum adapter fragment length in palindrome mode.\n",
    "\n",
    "`LEADING:3` refers to trimming bases from the start of a read. Bases at the start of a read will continue to be trimmed, sequentially, as long as the bases remain below a PHRED score of 3.\n",
    "\n",
    "`TRAILING:3` refers to the same as above, but at the end of a read.\n",
    "\n",
    "`MINLEN:36`, the read is discarded if below this length.\n",
    "\n",
    "Greater information about parameters can be found in the trimmomatic documentation."
   ]
  },
  {
   "cell_type": "code",
   "execution_count": 11,
   "metadata": {},
   "outputs": [
    {
     "name": "stdout",
     "output_type": "stream",
     "text": [
      "TrimmomaticSE: Started with arguments:\n",
      " -threads 15 data_1/raw_fastq/subsampledchr1_celegans_SRR11550221.fastq data_1/trimmed/SRR11550221_trimmed.fastq ILLUMINACLIP:data_1/trimmed/TruSeq3-SE.fa:2:30:10:2:keepBothReads LEADING:3 TRAILING:3 MINLEN:36\n",
      "Using Long Clipping Sequence: 'AGATCGGAAGAGCGTCGTGTAGGGAAAGAGTGTA'\n",
      "Using Long Clipping Sequence: 'AGATCGGAAGAGCACACGTCTGAACTCCAGTCAC'\n",
      "ILLUMINACLIP: Using 0 prefix pairs, 2 forward/reverse sequences, 0 forward only sequences, 0 reverse only sequences\n",
      "Quality encoding detected as phred33\n",
      "Input Reads: 1000000 Surviving: 1000000 (100.00%) Dropped: 0 (0.00%)\n",
      "TrimmomaticSE: Completed successfully\n",
      "TrimmomaticSE: Started with arguments:\n",
      " -threads 15 data_1/raw_fastq/subsampledchr1_celegans_SRR11550223.fastq data_1/trimmed/SRR11550223_trimmed.fastq ILLUMINACLIP:data_1/trimmed/TruSeq3-SE.fa:2:30:10:2:keepBothReads LEADING:3 TRAILING:3 MINLEN:36\n",
      "Using Long Clipping Sequence: 'AGATCGGAAGAGCGTCGTGTAGGGAAAGAGTGTA'\n",
      "Using Long Clipping Sequence: 'AGATCGGAAGAGCACACGTCTGAACTCCAGTCAC'\n",
      "ILLUMINACLIP: Using 0 prefix pairs, 2 forward/reverse sequences, 0 forward only sequences, 0 reverse only sequences\n",
      "Quality encoding detected as phred33\n",
      "Input Reads: 1000000 Surviving: 1000000 (100.00%) Dropped: 0 (0.00%)\n",
      "TrimmomaticSE: Completed successfully\n",
      "TrimmomaticSE: Started with arguments:\n",
      " -threads 15 data_1/raw_fastq/subsampledchr1_celegans_SRR11550225.fastq data_1/trimmed/SRR11550225_trimmed.fastq ILLUMINACLIP:data_1/trimmed/TruSeq3-SE.fa:2:30:10:2:keepBothReads LEADING:3 TRAILING:3 MINLEN:36\n",
      "Using Long Clipping Sequence: 'AGATCGGAAGAGCGTCGTGTAGGGAAAGAGTGTA'\n",
      "Using Long Clipping Sequence: 'AGATCGGAAGAGCACACGTCTGAACTCCAGTCAC'\n",
      "ILLUMINACLIP: Using 0 prefix pairs, 2 forward/reverse sequences, 0 forward only sequences, 0 reverse only sequences\n",
      "Quality encoding detected as phred33\n",
      "Input Reads: 1000000 Surviving: 1000000 (100.00%) Dropped: 0 (0.00%)\n",
      "TrimmomaticSE: Completed successfully\n",
      "TrimmomaticSE: Started with arguments:\n",
      " -threads 15 data_1/raw_fastq/subsampledchr1_celegans_SRR11550227.fastq data_1/trimmed/SRR11550227_trimmed.fastq ILLUMINACLIP:data_1/trimmed/TruSeq3-SE.fa:2:30:10:2:keepBothReads LEADING:3 TRAILING:3 MINLEN:36\n",
      "Using Long Clipping Sequence: 'AGATCGGAAGAGCGTCGTGTAGGGAAAGAGTGTA'\n",
      "Using Long Clipping Sequence: 'AGATCGGAAGAGCACACGTCTGAACTCCAGTCAC'\n",
      "ILLUMINACLIP: Using 0 prefix pairs, 2 forward/reverse sequences, 0 forward only sequences, 0 reverse only sequences\n",
      "Quality encoding detected as phred33\n",
      "Input Reads: 1000000 Surviving: 1000000 (100.00%) Dropped: 0 (0.00%)\n",
      "TrimmomaticSE: Completed successfully\n",
      "TrimmomaticSE: Started with arguments:\n",
      " -threads 15 data_1/raw_fastq/subsampledchr1_celegans_SRR11550229.fastq data_1/trimmed/SRR11550229_trimmed.fastq ILLUMINACLIP:data_1/trimmed/TruSeq3-SE.fa:2:30:10:2:keepBothReads LEADING:3 TRAILING:3 MINLEN:36\n",
      "Using Long Clipping Sequence: 'AGATCGGAAGAGCGTCGTGTAGGGAAAGAGTGTA'\n",
      "Using Long Clipping Sequence: 'AGATCGGAAGAGCACACGTCTGAACTCCAGTCAC'\n",
      "ILLUMINACLIP: Using 0 prefix pairs, 2 forward/reverse sequences, 0 forward only sequences, 0 reverse only sequences\n",
      "Quality encoding detected as phred33\n",
      "Input Reads: 1000000 Surviving: 1000000 (100.00%) Dropped: 0 (0.00%)\n",
      "TrimmomaticSE: Completed successfully\n",
      "TrimmomaticSE: Started with arguments:\n",
      " -threads 15 data_1/raw_fastq/subsampledchr1_celegans_SRR11550231.fastq data_1/trimmed/SRR11550231_trimmed.fastq ILLUMINACLIP:data_1/trimmed/TruSeq3-SE.fa:2:30:10:2:keepBothReads LEADING:3 TRAILING:3 MINLEN:36\n",
      "Using Long Clipping Sequence: 'AGATCGGAAGAGCGTCGTGTAGGGAAAGAGTGTA'\n",
      "Using Long Clipping Sequence: 'AGATCGGAAGAGCACACGTCTGAACTCCAGTCAC'\n",
      "ILLUMINACLIP: Using 0 prefix pairs, 2 forward/reverse sequences, 0 forward only sequences, 0 reverse only sequences\n",
      "Quality encoding detected as phred33\n",
      "Input Reads: 1000000 Surviving: 1000000 (100.00%) Dropped: 0 (0.00%)\n",
      "TrimmomaticSE: Completed successfully\n"
     ]
    }
   ],
   "source": [
    "!cat accs.txt | xargs -I {} \\\n",
    "trimmomatic SE -threads $THREADS \\\n",
    "data_1/raw_fastq/subsampledchr1_celegans_{}.fastq data_1/trimmed/{}_trimmed.fastq \\\n",
    "ILLUMINACLIP:data_1/trimmed/TruSeq3-SE.fa:2:30:10:2:keepBothReads LEADING:3 TRAILING:3 MINLEN:36"
   ]
  },
  {
   "cell_type": "markdown",
   "metadata": {},
   "source": [
    "## STEP 5: Run FastQC\n",
    "FastQC is an invaluable tool that allows you to evaluate whether there are problems with a set of reads. For example, it will provide a report of whether there is any bias in the sequence composition of the reads.\n",
    "\n",
    "Because jupyter is at its core a python editor, we can use python code and html support to display results in-line.\n",
    "\n",
    "FastQC looks for different characteristics of quality in reads. It is very rare that every metric will pass. In many cases, they serve as warnings, which should be compared to the context of the experiment. For instance, here, per base sequence content, sequence length distribution, sequence duplication levels, and overrepresented sequences all throw warnings. Per base sequence content routinely fails in RNA-sequencing in the first 15~ or so bases due to biased fragmentation. In most of our samples, this is where we see the failure (20% or more difference between A/T or G/C), and so is not unexpected. The overrepresented sequences can be BLASTed to show the majority of them are ribosomal RNA. Ribosomal RNA contamination is also common and will not be indexed later, and so not a large concern. Other metrics look good."
   ]
  },
  {
   "cell_type": "code",
   "execution_count": 12,
   "metadata": {},
   "outputs": [
    {
     "name": "stdout",
     "output_type": "stream",
     "text": [
      "null\n",
      "null\n",
      "null\n",
      "null\n",
      "null\n",
      "null\n",
      "Started analysis of SRR11550231_trimmed.fastq\n",
      "Started analysis of SRR11550227_trimmed.fastq\n",
      "Started analysis of SRR11550229_trimmed.fastq\n",
      "Started analysis of SRR11550225_trimmed.fastq\n",
      "Started analysis of SRR11550223_trimmed.fastq\n",
      "Started analysis of SRR11550221_trimmed.fastq\n",
      "Approx 5% complete for SRR11550231_trimmed.fastq\n",
      "Approx 5% complete for SRR11550227_trimmed.fastq\n",
      "Approx 5% complete for SRR11550221_trimmed.fastq\n",
      "Approx 5% complete for SRR11550229_trimmed.fastq\n",
      "Approx 5% complete for SRR11550225_trimmed.fastq\n",
      "Approx 5% complete for SRR11550223_trimmed.fastq\n",
      "Approx 10% complete for SRR11550231_trimmed.fastq\n",
      "Approx 10% complete for SRR11550221_trimmed.fastq\n",
      "Approx 10% complete for SRR11550227_trimmed.fastq\n",
      "Approx 10% complete for SRR11550229_trimmed.fastq\n",
      "Approx 10% complete for SRR11550225_trimmed.fastq\n",
      "Approx 10% complete for SRR11550223_trimmed.fastq\n",
      "Approx 15% complete for SRR11550231_trimmed.fastq\n",
      "Approx 15% complete for SRR11550221_trimmed.fastq\n",
      "Approx 15% complete for SRR11550227_trimmed.fastq\n",
      "Approx 15% complete for SRR11550229_trimmed.fastq\n",
      "Approx 15% complete for SRR11550225_trimmed.fastq\n",
      "Approx 15% complete for SRR11550223_trimmed.fastq\n",
      "Approx 20% complete for SRR11550231_trimmed.fastq\n",
      "Approx 20% complete for SRR11550221_trimmed.fastq\n",
      "Approx 20% complete for SRR11550227_trimmed.fastq\n",
      "Approx 20% complete for SRR11550229_trimmed.fastq\n",
      "Approx 20% complete for SRR11550225_trimmed.fastq\n",
      "Approx 20% complete for SRR11550223_trimmed.fastq\n",
      "Approx 25% complete for SRR11550229_trimmed.fastq\n",
      "Approx 25% complete for SRR11550221_trimmed.fastq\n",
      "Approx 25% complete for SRR11550227_trimmed.fastq\n",
      "Approx 25% complete for SRR11550231_trimmed.fastq\n",
      "Approx 25% complete for SRR11550223_trimmed.fastq\n",
      "Approx 25% complete for SRR11550225_trimmed.fastq\n",
      "Approx 30% complete for SRR11550229_trimmed.fastq\n",
      "Approx 30% complete for SRR11550227_trimmed.fastq\n",
      "Approx 30% complete for SRR11550231_trimmed.fastq\n",
      "Approx 30% complete for SRR11550221_trimmed.fastq\n",
      "Approx 30% complete for SRR11550223_trimmed.fastq\n",
      "Approx 30% complete for SRR11550225_trimmed.fastq\n",
      "Approx 35% complete for SRR11550229_trimmed.fastq\n",
      "Approx 35% complete for SRR11550231_trimmed.fastq\n",
      "Approx 35% complete for SRR11550227_trimmed.fastq\n",
      "Approx 35% complete for SRR11550221_trimmed.fastq\n",
      "Approx 35% complete for SRR11550225_trimmed.fastq\n",
      "Approx 35% complete for SRR11550223_trimmed.fastq\n",
      "Approx 40% complete for SRR11550225_trimmed.fastq\n",
      "Approx 40% complete for SRR11550231_trimmed.fastq\n",
      "Approx 40% complete for SRR11550227_trimmed.fastq\n",
      "Approx 40% complete for SRR11550221_trimmed.fastq\n",
      "Approx 40% complete for SRR11550229_trimmed.fastq\n",
      "Approx 40% complete for SRR11550223_trimmed.fastq\n",
      "Approx 45% complete for SRR11550227_trimmed.fastq\n",
      "Approx 45% complete for SRR11550225_trimmed.fastq\n",
      "Approx 45% complete for SRR11550229_trimmed.fastq\n",
      "Approx 45% complete for SRR11550221_trimmed.fastq\n",
      "Approx 45% complete for SRR11550231_trimmed.fastq\n",
      "Approx 45% complete for SRR11550223_trimmed.fastq\n",
      "Approx 50% complete for SRR11550225_trimmed.fastq\n",
      "Approx 50% complete for SRR11550221_trimmed.fastq\n",
      "Approx 50% complete for SRR11550227_trimmed.fastq\n",
      "Approx 50% complete for SRR11550231_trimmed.fastq\n",
      "Approx 50% complete for SRR11550229_trimmed.fastq\n",
      "Approx 50% complete for SRR11550223_trimmed.fastq\n",
      "Approx 55% complete for SRR11550225_trimmed.fastq\n",
      "Approx 55% complete for SRR11550227_trimmed.fastq\n",
      "Approx 55% complete for SRR11550221_trimmed.fastq\n",
      "Approx 55% complete for SRR11550231_trimmed.fastq\n",
      "Approx 55% complete for SRR11550229_trimmed.fastq\n",
      "Approx 55% complete for SRR11550223_trimmed.fastq\n",
      "Approx 60% complete for SRR11550225_trimmed.fastq\n",
      "Approx 60% complete for SRR11550227_trimmed.fastq\n",
      "Approx 60% complete for SRR11550221_trimmed.fastq\n",
      "Approx 60% complete for SRR11550231_trimmed.fastq\n",
      "Approx 60% complete for SRR11550223_trimmed.fastq\n",
      "Approx 60% complete for SRR11550229_trimmed.fastq\n",
      "Approx 65% complete for SRR11550225_trimmed.fastq\n",
      "Approx 65% complete for SRR11550227_trimmed.fastq\n",
      "Approx 65% complete for SRR11550221_trimmed.fastq\n",
      "Approx 65% complete for SRR11550231_trimmed.fastq\n",
      "Approx 65% complete for SRR11550223_trimmed.fastq\n",
      "Approx 65% complete for SRR11550229_trimmed.fastq\n",
      "Approx 70% complete for SRR11550225_trimmed.fastq\n",
      "Approx 70% complete for SRR11550227_trimmed.fastq\n",
      "Approx 70% complete for SRR11550221_trimmed.fastq\n",
      "Approx 70% complete for SRR11550223_trimmed.fastq\n",
      "Approx 70% complete for SRR11550231_trimmed.fastq\n",
      "Approx 70% complete for SRR11550229_trimmed.fastq\n",
      "Approx 75% complete for SRR11550227_trimmed.fastq\n",
      "Approx 75% complete for SRR11550225_trimmed.fastq\n",
      "Approx 75% complete for SRR11550223_trimmed.fastq\n",
      "Approx 75% complete for SRR11550229_trimmed.fastq\n",
      "Approx 75% complete for SRR11550221_trimmed.fastq\n",
      "Approx 75% complete for SRR11550231_trimmed.fastq\n",
      "Approx 80% complete for SRR11550225_trimmed.fastq\n",
      "Approx 80% complete for SRR11550227_trimmed.fastq\n",
      "Approx 80% complete for SRR11550221_trimmed.fastq\n",
      "Approx 80% complete for SRR11550223_trimmed.fastq\n",
      "Approx 80% complete for SRR11550231_trimmed.fastq\n",
      "Approx 80% complete for SRR11550229_trimmed.fastq\n",
      "Approx 85% complete for SRR11550225_trimmed.fastq\n",
      "Approx 85% complete for SRR11550227_trimmed.fastq\n",
      "Approx 85% complete for SRR11550221_trimmed.fastq\n",
      "Approx 85% complete for SRR11550223_trimmed.fastq\n",
      "Approx 85% complete for SRR11550231_trimmed.fastq\n",
      "Approx 85% complete for SRR11550229_trimmed.fastq\n",
      "Approx 90% complete for SRR11550227_trimmed.fastq\n",
      "Approx 90% complete for SRR11550225_trimmed.fastq\n",
      "Approx 90% complete for SRR11550221_trimmed.fastq\n",
      "Approx 90% complete for SRR11550223_trimmed.fastq\n",
      "Approx 90% complete for SRR11550231_trimmed.fastq\n",
      "Approx 90% complete for SRR11550229_trimmed.fastq\n",
      "Approx 95% complete for SRR11550225_trimmed.fastq\n",
      "Approx 95% complete for SRR11550227_trimmed.fastq\n",
      "Approx 95% complete for SRR11550221_trimmed.fastq\n",
      "Approx 95% complete for SRR11550223_trimmed.fastq\n",
      "Approx 95% complete for SRR11550231_trimmed.fastq\n",
      "Approx 95% complete for SRR11550229_trimmed.fastq\n",
      "Approx 100% complete for SRR11550225_trimmed.fastq\n",
      "Analysis complete for SRR11550225_trimmed.fastq\n",
      "Approx 100% complete for SRR11550227_trimmed.fastq\n",
      "Analysis complete for SRR11550227_trimmed.fastq\n",
      "Approx 100% complete for SRR11550221_trimmed.fastq\n",
      "Approx 100% complete for SRR11550223_trimmed.fastq\n",
      "Analysis complete for SRR11550221_trimmed.fastq\n",
      "Analysis complete for SRR11550223_trimmed.fastq\n",
      "Approx 100% complete for SRR11550231_trimmed.fastq\n",
      "Approx 100% complete for SRR11550229_trimmed.fastq\n",
      "Analysis complete for SRR11550231_trimmed.fastq\n",
      "Analysis complete for SRR11550229_trimmed.fastq\n"
     ]
    }
   ],
   "source": [
    "# Run FastQC\n",
    "!cat accs.txt | xargs -P $THREADS -I {} fastqc data_1/trimmed/{}_trimmed.fastq -o data_1/fastqc_samples/"
   ]
  },
  {
   "cell_type": "code",
   "execution_count": 13,
   "metadata": {},
   "outputs": [
    {
     "data": {
      "text/html": [
       "\n",
       "        <iframe\n",
       "            width=\"800\"\n",
       "            height=\"600\"\n",
       "            src=\"./data_1/fastqc_samples/SRR11550221_trimmed_fastqc.html\"\n",
       "            frameborder=\"0\"\n",
       "            allowfullscreen\n",
       "            \n",
       "        ></iframe>\n",
       "        "
      ],
      "text/plain": [
       "<IPython.lib.display.IFrame at 0x7f67801e64a0>"
      ]
     },
     "execution_count": 13,
     "metadata": {},
     "output_type": "execute_result"
    }
   ],
   "source": [
    "from IPython.display import IFrame\n",
    "IFrame(src='./data_1/fastqc_samples/SRR11550221_trimmed_fastqc.html', width=800, height=600)"
   ]
  },
  {
   "cell_type": "markdown",
   "metadata": {},
   "source": [
    "## STEP 6: Run MultiQC\n",
    "MultiQC reads in the FastQC reports and generate a compiled report for all the analyzed FASTQ files.\n",
    "\n",
    "Being able to use python with bash also means we can seamlessly use popular python packages, such as pandas, to interact with or view the files we create."
   ]
  },
  {
   "cell_type": "code",
   "execution_count": 14,
   "metadata": {},
   "outputs": [
    {
     "name": "stdout",
     "output_type": "stream",
     "text": [
      "\n",
      "\u001b[91m///\u001b[0m \u001b]8;id=855396;https://multiqc.info\u001b\\\u001b[1mMultiQC\u001b[0m\u001b]8;;\u001b\\ 🔍 \u001b[2mv1.28\u001b[0m\n",
      "\n",
      "\u001b[34m       file_search\u001b[0m | Search path: /home/ec2-user/SageMaker/Bulk-and-Single-Cell-RNAseq/Bulk_RNA-Seq_Tutorials/Bulk_RNA-Seq_C_elegans/data_1/fastqc_samples\n",
      "\u001b[2K         \u001b[34msearching\u001b[0m | \u001b[90m━━━━━━━━━━━━━━━━━━━━━━━━━━━━━━━━━━━━━━━━\u001b[0m \u001b[35m100%\u001b[0m \u001b[32m12/12\u001b[0m  p\u001b[0mm  \n",
      "\u001b[?25h\u001b[34m            fastqc\u001b[0m | Found 6 reports\n",
      "\u001b[34m     write_results\u001b[0m | Data        : data_1/multiqc_samples/multiqc_data\n",
      "\u001b[34m     write_results\u001b[0m | Report      : data_1/multiqc_samples/multiqc_report.html\n",
      "\u001b[34m           multiqc\u001b[0m | MultiQC complete\n"
     ]
    }
   ],
   "source": [
    "#!multiqc -f data_1/fastqc_samples/\n",
    "!multiqc -f -o data_1/multiqc_samples/ data_1/fastqc_samples/"
   ]
  },
  {
   "cell_type": "markdown",
   "metadata": {},
   "source": [
    "## STEP 7: Preparing the STAR-Compatible RSEM Reference"
   ]
  },
  {
   "cell_type": "markdown",
   "metadata": {},
   "source": [
    "The provided code snippet demonstrates the process of preparing a reference genome and annotation files for RNA-Seq analysis using RSEM and STAR. The initial command, rsem-prepare-reference, creates a reference index for the C. elegans genome based on the provided GTF annotation file (celegans_annotation.gtf). This index, along with the reference genome sequence (celegans_genome.fa), is essential for quantifying gene and isoform expression using RSEM. The --star option ensures compatibility with STAR, a popular transcriptome aligner.\n",
    "\n",
    "However, the subsequent STAR genome generation step encounters a warning due to an excessively large --genomeSAindexNbases parameter. This parameter controls the size of the genome's suffix array index, which is used for efficient alignment. If the parameter is too large for the given genome size, it can lead to segmentation faults during the mapping process. To address this issue, the code adjusts the --genomeSAindexNbases parameter to 12, which is more appropriate for the C. elegans genome. This modification ensures that the STAR genome generation process completes successfully without errors."
   ]
  },
  {
   "cell_type": "code",
   "execution_count": 15,
   "metadata": {},
   "outputs": [
    {
     "name": "stdout",
     "output_type": "stream",
     "text": [
      "The reference contains no transcripts!\n"
     ]
    }
   ],
   "source": [
    "!rsem-prepare-reference --gtf data_1/reference/celegans_annotation_chr1.gtf --star -p $THREADS data_1/reference/celegans_genome_chr1.fa celegans_reference > /dev/null"
   ]
  },
  {
   "cell_type": "code",
   "execution_count": 16,
   "metadata": {},
   "outputs": [
    {
     "name": "stdout",
     "output_type": "stream",
     "text": [
      "\n",
      "Fatal INPUT FILE error, no exon lines in the GTF file: data_1/reference/celegans_annotation_chr1.gtf\n",
      "Solution: check the formatting of the GTF file, it must contain some lines with exon in the 3rd column.\n",
      "          Make sure the GTF file is unzipped.\n",
      "          If exons are marked with a different word, use --sjdbGTFfeatureExon .\n",
      "\n",
      "May 12 11:18:08 ...... FATAL ERROR, exiting\n"
     ]
    }
   ],
   "source": [
    "!STAR  --runThreadN $THREADS  --runMode genomeGenerate  --genomeDir .  --genomeFastaFiles data_1/reference/celegans_genome_chr1.fa  --sjdbGTFfile data_1/reference/celegans_annotation_chr1.gtf  --sjdbOverhang 100  --outFileNamePrefix celegans_reference  --genomeSAindexNbases 10 > /dev/null"
   ]
  },
  {
   "cell_type": "markdown",
   "metadata": {},
   "source": [
    "## STEP 8: Automated RNA-seq Quantification with RSEM"
   ]
  },
  {
   "cell_type": "markdown",
   "metadata": {},
   "source": [
    "This code automates the process of quantifying gene expression from RNA-seq data using RSEM. It reads a list of SRR accession numbers from a text file, iterates over each accession, and executes the RSEM command to calculate gene expression levels. The code assumes that the trimmed FASTQ files for each SRR are located in a specified directory (data_1/trimmed/) and uses a previously generated reference index (celegans_reference). The output files are saved in the data_1/rsem_output directory, with filenames based on the corresponding SRR accession number. This script simplifies the workflow for analyzing multiple RNA-seq samples using RSEM."
   ]
  },
  {
   "cell_type": "code",
   "execution_count": 17,
   "metadata": {},
   "outputs": [
    {
     "name": "stderr",
     "output_type": "stream",
     "text": [
      "\n",
      "EXITING because of FATAL ERROR: could not open genome file .//genomeParameters.txt\n",
      "SOLUTION: check that the path to genome files, specified in --genomeDir is correct and the files are present, and have user read permsissions\n",
      "\n",
      "May 12 11:18:08 ...... FATAL ERROR, exiting\n",
      "\n",
      "EXITING because of FATAL ERROR: could not open genome file .//genomeParameters.txt\n",
      "SOLUTION: check that the path to genome files, specified in --genomeDir is correct and the files are present, and have user read permsissions\n",
      "\n",
      "May 12 11:18:08 ...... FATAL ERROR, exiting\n",
      "\n",
      "EXITING because of FATAL ERROR: could not open genome file .//genomeParameters.txt\n",
      "SOLUTION: check that the path to genome files, specified in --genomeDir is correct and the files are present, and have user read permsissions\n",
      "\n",
      "May 12 11:18:08 ...... FATAL ERROR, exiting\n",
      "\n",
      "EXITING because of FATAL ERROR: could not open genome file .//genomeParameters.txt\n",
      "SOLUTION: check that the path to genome files, specified in --genomeDir is correct and the files are present, and have user read permsissions\n",
      "\n",
      "May 12 11:18:08 ...... FATAL ERROR, exiting\n",
      "\n",
      "EXITING because of FATAL ERROR: could not open genome file .//genomeParameters.txt\n",
      "SOLUTION: check that the path to genome files, specified in --genomeDir is correct and the files are present, and have user read permsissions\n",
      "\n",
      "May 12 11:18:09 ...... FATAL ERROR, exiting\n",
      "\n",
      "EXITING because of FATAL ERROR: could not open genome file .//genomeParameters.txt\n",
      "SOLUTION: check that the path to genome files, specified in --genomeDir is correct and the files are present, and have user read permsissions\n",
      "\n",
      "May 12 11:18:09 ...... FATAL ERROR, exiting\n"
     ]
    }
   ],
   "source": [
    "import os\n",
    "\n",
    "# Ensure you've set the path to the RSEM binary\n",
    "with open('accs.txt', 'r') as f:\n",
    "    srr_accessions = [line.strip() for line in f.readlines()]\n",
    "    \n",
    "# Define the output directory\n",
    "output_dir = \"data_1/rsem_output\"\n",
    "\n",
    "for srr in srr_accessions:\n",
    "    os.system(f\"rsem-calculate-expression -p $THREADS --star \"\n",
    "              f\"data_1/trimmed/{srr}_trimmed.fastq celegans_reference \"\n",
    "              f\"{output_dir}/{srr}celegans > /dev/null\")"
   ]
  },
  {
   "cell_type": "markdown",
   "metadata": {},
   "source": [
    "## STEP 9: Report the top 10 most highly expressed genes in the samples"
   ]
  },
  {
   "cell_type": "markdown",
   "metadata": {},
   "source": [
    "Top 10 most highly expressed genes in each wild-type sample.\n"
   ]
  },
  {
   "cell_type": "code",
   "execution_count": 18,
   "metadata": {},
   "outputs": [
    {
     "ename": "FileNotFoundError",
     "evalue": "[Errno 2] No such file or directory: 'data_1/rsem_output/SRR11550221celegans.genes.results'",
     "output_type": "error",
     "traceback": [
      "\u001b[0;31m---------------------------------------------------------------------------\u001b[0m",
      "\u001b[0;31mFileNotFoundError\u001b[0m                         Traceback (most recent call last)",
      "Cell \u001b[0;32mIn[18], line 12\u001b[0m\n\u001b[1;32m      9\u001b[0m rsem_result_file \u001b[38;5;241m=\u001b[39m \u001b[38;5;124mf\u001b[39m\u001b[38;5;124m'\u001b[39m\u001b[38;5;132;01m{\u001b[39;00mrsem_results_dir\u001b[38;5;132;01m}\u001b[39;00m\u001b[38;5;124m/\u001b[39m\u001b[38;5;132;01m{\u001b[39;00msrr_id\u001b[38;5;132;01m}\u001b[39;00m\u001b[38;5;124mcelegans.genes.results\u001b[39m\u001b[38;5;124m'\u001b[39m\n\u001b[1;32m     11\u001b[0m \u001b[38;5;66;03m# Load the RSEM results into a Pandas DataFrame\u001b[39;00m\n\u001b[0;32m---> 12\u001b[0m df \u001b[38;5;241m=\u001b[39m \u001b[43mpd\u001b[49m\u001b[38;5;241;43m.\u001b[39;49m\u001b[43mread_csv\u001b[49m\u001b[43m(\u001b[49m\u001b[43mrsem_result_file\u001b[49m\u001b[43m,\u001b[49m\u001b[43m \u001b[49m\u001b[43msep\u001b[49m\u001b[38;5;241;43m=\u001b[39;49m\u001b[38;5;124;43m'\u001b[39;49m\u001b[38;5;130;43;01m\\t\u001b[39;49;00m\u001b[38;5;124;43m'\u001b[39;49m\u001b[43m)\u001b[49m\n\u001b[1;32m     14\u001b[0m \u001b[38;5;66;03m# Sort the DataFrame by TPM values in descending order and get the top 10 genes\u001b[39;00m\n\u001b[1;32m     15\u001b[0m top_10_genes \u001b[38;5;241m=\u001b[39m df\u001b[38;5;241m.\u001b[39msort_values(by\u001b[38;5;241m=\u001b[39m\u001b[38;5;124m'\u001b[39m\u001b[38;5;124mTPM\u001b[39m\u001b[38;5;124m'\u001b[39m, ascending\u001b[38;5;241m=\u001b[39m\u001b[38;5;28;01mFalse\u001b[39;00m)\u001b[38;5;241m.\u001b[39mhead(\u001b[38;5;241m10\u001b[39m)\n",
      "File \u001b[0;32m~/anaconda3/envs/python3/lib/python3.10/site-packages/pandas/util/_decorators.py:211\u001b[0m, in \u001b[0;36mdeprecate_kwarg.<locals>._deprecate_kwarg.<locals>.wrapper\u001b[0;34m(*args, **kwargs)\u001b[0m\n\u001b[1;32m    209\u001b[0m     \u001b[38;5;28;01melse\u001b[39;00m:\n\u001b[1;32m    210\u001b[0m         kwargs[new_arg_name] \u001b[38;5;241m=\u001b[39m new_arg_value\n\u001b[0;32m--> 211\u001b[0m \u001b[38;5;28;01mreturn\u001b[39;00m \u001b[43mfunc\u001b[49m\u001b[43m(\u001b[49m\u001b[38;5;241;43m*\u001b[39;49m\u001b[43margs\u001b[49m\u001b[43m,\u001b[49m\u001b[43m \u001b[49m\u001b[38;5;241;43m*\u001b[39;49m\u001b[38;5;241;43m*\u001b[39;49m\u001b[43mkwargs\u001b[49m\u001b[43m)\u001b[49m\n",
      "File \u001b[0;32m~/anaconda3/envs/python3/lib/python3.10/site-packages/pandas/util/_decorators.py:331\u001b[0m, in \u001b[0;36mdeprecate_nonkeyword_arguments.<locals>.decorate.<locals>.wrapper\u001b[0;34m(*args, **kwargs)\u001b[0m\n\u001b[1;32m    325\u001b[0m \u001b[38;5;28;01mif\u001b[39;00m \u001b[38;5;28mlen\u001b[39m(args) \u001b[38;5;241m>\u001b[39m num_allow_args:\n\u001b[1;32m    326\u001b[0m     warnings\u001b[38;5;241m.\u001b[39mwarn(\n\u001b[1;32m    327\u001b[0m         msg\u001b[38;5;241m.\u001b[39mformat(arguments\u001b[38;5;241m=\u001b[39m_format_argument_list(allow_args)),\n\u001b[1;32m    328\u001b[0m         \u001b[38;5;167;01mFutureWarning\u001b[39;00m,\n\u001b[1;32m    329\u001b[0m         stacklevel\u001b[38;5;241m=\u001b[39mfind_stack_level(),\n\u001b[1;32m    330\u001b[0m     )\n\u001b[0;32m--> 331\u001b[0m \u001b[38;5;28;01mreturn\u001b[39;00m \u001b[43mfunc\u001b[49m\u001b[43m(\u001b[49m\u001b[38;5;241;43m*\u001b[39;49m\u001b[43margs\u001b[49m\u001b[43m,\u001b[49m\u001b[43m \u001b[49m\u001b[38;5;241;43m*\u001b[39;49m\u001b[38;5;241;43m*\u001b[39;49m\u001b[43mkwargs\u001b[49m\u001b[43m)\u001b[49m\n",
      "File \u001b[0;32m~/anaconda3/envs/python3/lib/python3.10/site-packages/pandas/io/parsers/readers.py:950\u001b[0m, in \u001b[0;36mread_csv\u001b[0;34m(filepath_or_buffer, sep, delimiter, header, names, index_col, usecols, squeeze, prefix, mangle_dupe_cols, dtype, engine, converters, true_values, false_values, skipinitialspace, skiprows, skipfooter, nrows, na_values, keep_default_na, na_filter, verbose, skip_blank_lines, parse_dates, infer_datetime_format, keep_date_col, date_parser, dayfirst, cache_dates, iterator, chunksize, compression, thousands, decimal, lineterminator, quotechar, quoting, doublequote, escapechar, comment, encoding, encoding_errors, dialect, error_bad_lines, warn_bad_lines, on_bad_lines, delim_whitespace, low_memory, memory_map, float_precision, storage_options)\u001b[0m\n\u001b[1;32m    935\u001b[0m kwds_defaults \u001b[38;5;241m=\u001b[39m _refine_defaults_read(\n\u001b[1;32m    936\u001b[0m     dialect,\n\u001b[1;32m    937\u001b[0m     delimiter,\n\u001b[0;32m   (...)\u001b[0m\n\u001b[1;32m    946\u001b[0m     defaults\u001b[38;5;241m=\u001b[39m{\u001b[38;5;124m\"\u001b[39m\u001b[38;5;124mdelimiter\u001b[39m\u001b[38;5;124m\"\u001b[39m: \u001b[38;5;124m\"\u001b[39m\u001b[38;5;124m,\u001b[39m\u001b[38;5;124m\"\u001b[39m},\n\u001b[1;32m    947\u001b[0m )\n\u001b[1;32m    948\u001b[0m kwds\u001b[38;5;241m.\u001b[39mupdate(kwds_defaults)\n\u001b[0;32m--> 950\u001b[0m \u001b[38;5;28;01mreturn\u001b[39;00m \u001b[43m_read\u001b[49m\u001b[43m(\u001b[49m\u001b[43mfilepath_or_buffer\u001b[49m\u001b[43m,\u001b[49m\u001b[43m \u001b[49m\u001b[43mkwds\u001b[49m\u001b[43m)\u001b[49m\n",
      "File \u001b[0;32m~/anaconda3/envs/python3/lib/python3.10/site-packages/pandas/io/parsers/readers.py:605\u001b[0m, in \u001b[0;36m_read\u001b[0;34m(filepath_or_buffer, kwds)\u001b[0m\n\u001b[1;32m    602\u001b[0m _validate_names(kwds\u001b[38;5;241m.\u001b[39mget(\u001b[38;5;124m\"\u001b[39m\u001b[38;5;124mnames\u001b[39m\u001b[38;5;124m\"\u001b[39m, \u001b[38;5;28;01mNone\u001b[39;00m))\n\u001b[1;32m    604\u001b[0m \u001b[38;5;66;03m# Create the parser.\u001b[39;00m\n\u001b[0;32m--> 605\u001b[0m parser \u001b[38;5;241m=\u001b[39m \u001b[43mTextFileReader\u001b[49m\u001b[43m(\u001b[49m\u001b[43mfilepath_or_buffer\u001b[49m\u001b[43m,\u001b[49m\u001b[43m \u001b[49m\u001b[38;5;241;43m*\u001b[39;49m\u001b[38;5;241;43m*\u001b[39;49m\u001b[43mkwds\u001b[49m\u001b[43m)\u001b[49m\n\u001b[1;32m    607\u001b[0m \u001b[38;5;28;01mif\u001b[39;00m chunksize \u001b[38;5;129;01mor\u001b[39;00m iterator:\n\u001b[1;32m    608\u001b[0m     \u001b[38;5;28;01mreturn\u001b[39;00m parser\n",
      "File \u001b[0;32m~/anaconda3/envs/python3/lib/python3.10/site-packages/pandas/io/parsers/readers.py:1442\u001b[0m, in \u001b[0;36mTextFileReader.__init__\u001b[0;34m(self, f, engine, **kwds)\u001b[0m\n\u001b[1;32m   1439\u001b[0m     \u001b[38;5;28mself\u001b[39m\u001b[38;5;241m.\u001b[39moptions[\u001b[38;5;124m\"\u001b[39m\u001b[38;5;124mhas_index_names\u001b[39m\u001b[38;5;124m\"\u001b[39m] \u001b[38;5;241m=\u001b[39m kwds[\u001b[38;5;124m\"\u001b[39m\u001b[38;5;124mhas_index_names\u001b[39m\u001b[38;5;124m\"\u001b[39m]\n\u001b[1;32m   1441\u001b[0m \u001b[38;5;28mself\u001b[39m\u001b[38;5;241m.\u001b[39mhandles: IOHandles \u001b[38;5;241m|\u001b[39m \u001b[38;5;28;01mNone\u001b[39;00m \u001b[38;5;241m=\u001b[39m \u001b[38;5;28;01mNone\u001b[39;00m\n\u001b[0;32m-> 1442\u001b[0m \u001b[38;5;28mself\u001b[39m\u001b[38;5;241m.\u001b[39m_engine \u001b[38;5;241m=\u001b[39m \u001b[38;5;28;43mself\u001b[39;49m\u001b[38;5;241;43m.\u001b[39;49m\u001b[43m_make_engine\u001b[49m\u001b[43m(\u001b[49m\u001b[43mf\u001b[49m\u001b[43m,\u001b[49m\u001b[43m \u001b[49m\u001b[38;5;28;43mself\u001b[39;49m\u001b[38;5;241;43m.\u001b[39;49m\u001b[43mengine\u001b[49m\u001b[43m)\u001b[49m\n",
      "File \u001b[0;32m~/anaconda3/envs/python3/lib/python3.10/site-packages/pandas/io/parsers/readers.py:1735\u001b[0m, in \u001b[0;36mTextFileReader._make_engine\u001b[0;34m(self, f, engine)\u001b[0m\n\u001b[1;32m   1733\u001b[0m     \u001b[38;5;28;01mif\u001b[39;00m \u001b[38;5;124m\"\u001b[39m\u001b[38;5;124mb\u001b[39m\u001b[38;5;124m\"\u001b[39m \u001b[38;5;129;01mnot\u001b[39;00m \u001b[38;5;129;01min\u001b[39;00m mode:\n\u001b[1;32m   1734\u001b[0m         mode \u001b[38;5;241m+\u001b[39m\u001b[38;5;241m=\u001b[39m \u001b[38;5;124m\"\u001b[39m\u001b[38;5;124mb\u001b[39m\u001b[38;5;124m\"\u001b[39m\n\u001b[0;32m-> 1735\u001b[0m \u001b[38;5;28mself\u001b[39m\u001b[38;5;241m.\u001b[39mhandles \u001b[38;5;241m=\u001b[39m \u001b[43mget_handle\u001b[49m\u001b[43m(\u001b[49m\n\u001b[1;32m   1736\u001b[0m \u001b[43m    \u001b[49m\u001b[43mf\u001b[49m\u001b[43m,\u001b[49m\n\u001b[1;32m   1737\u001b[0m \u001b[43m    \u001b[49m\u001b[43mmode\u001b[49m\u001b[43m,\u001b[49m\n\u001b[1;32m   1738\u001b[0m \u001b[43m    \u001b[49m\u001b[43mencoding\u001b[49m\u001b[38;5;241;43m=\u001b[39;49m\u001b[38;5;28;43mself\u001b[39;49m\u001b[38;5;241;43m.\u001b[39;49m\u001b[43moptions\u001b[49m\u001b[38;5;241;43m.\u001b[39;49m\u001b[43mget\u001b[49m\u001b[43m(\u001b[49m\u001b[38;5;124;43m\"\u001b[39;49m\u001b[38;5;124;43mencoding\u001b[39;49m\u001b[38;5;124;43m\"\u001b[39;49m\u001b[43m,\u001b[49m\u001b[43m \u001b[49m\u001b[38;5;28;43;01mNone\u001b[39;49;00m\u001b[43m)\u001b[49m\u001b[43m,\u001b[49m\n\u001b[1;32m   1739\u001b[0m \u001b[43m    \u001b[49m\u001b[43mcompression\u001b[49m\u001b[38;5;241;43m=\u001b[39;49m\u001b[38;5;28;43mself\u001b[39;49m\u001b[38;5;241;43m.\u001b[39;49m\u001b[43moptions\u001b[49m\u001b[38;5;241;43m.\u001b[39;49m\u001b[43mget\u001b[49m\u001b[43m(\u001b[49m\u001b[38;5;124;43m\"\u001b[39;49m\u001b[38;5;124;43mcompression\u001b[39;49m\u001b[38;5;124;43m\"\u001b[39;49m\u001b[43m,\u001b[49m\u001b[43m \u001b[49m\u001b[38;5;28;43;01mNone\u001b[39;49;00m\u001b[43m)\u001b[49m\u001b[43m,\u001b[49m\n\u001b[1;32m   1740\u001b[0m \u001b[43m    \u001b[49m\u001b[43mmemory_map\u001b[49m\u001b[38;5;241;43m=\u001b[39;49m\u001b[38;5;28;43mself\u001b[39;49m\u001b[38;5;241;43m.\u001b[39;49m\u001b[43moptions\u001b[49m\u001b[38;5;241;43m.\u001b[39;49m\u001b[43mget\u001b[49m\u001b[43m(\u001b[49m\u001b[38;5;124;43m\"\u001b[39;49m\u001b[38;5;124;43mmemory_map\u001b[39;49m\u001b[38;5;124;43m\"\u001b[39;49m\u001b[43m,\u001b[49m\u001b[43m \u001b[49m\u001b[38;5;28;43;01mFalse\u001b[39;49;00m\u001b[43m)\u001b[49m\u001b[43m,\u001b[49m\n\u001b[1;32m   1741\u001b[0m \u001b[43m    \u001b[49m\u001b[43mis_text\u001b[49m\u001b[38;5;241;43m=\u001b[39;49m\u001b[43mis_text\u001b[49m\u001b[43m,\u001b[49m\n\u001b[1;32m   1742\u001b[0m \u001b[43m    \u001b[49m\u001b[43merrors\u001b[49m\u001b[38;5;241;43m=\u001b[39;49m\u001b[38;5;28;43mself\u001b[39;49m\u001b[38;5;241;43m.\u001b[39;49m\u001b[43moptions\u001b[49m\u001b[38;5;241;43m.\u001b[39;49m\u001b[43mget\u001b[49m\u001b[43m(\u001b[49m\u001b[38;5;124;43m\"\u001b[39;49m\u001b[38;5;124;43mencoding_errors\u001b[39;49m\u001b[38;5;124;43m\"\u001b[39;49m\u001b[43m,\u001b[49m\u001b[43m \u001b[49m\u001b[38;5;124;43m\"\u001b[39;49m\u001b[38;5;124;43mstrict\u001b[39;49m\u001b[38;5;124;43m\"\u001b[39;49m\u001b[43m)\u001b[49m\u001b[43m,\u001b[49m\n\u001b[1;32m   1743\u001b[0m \u001b[43m    \u001b[49m\u001b[43mstorage_options\u001b[49m\u001b[38;5;241;43m=\u001b[39;49m\u001b[38;5;28;43mself\u001b[39;49m\u001b[38;5;241;43m.\u001b[39;49m\u001b[43moptions\u001b[49m\u001b[38;5;241;43m.\u001b[39;49m\u001b[43mget\u001b[49m\u001b[43m(\u001b[49m\u001b[38;5;124;43m\"\u001b[39;49m\u001b[38;5;124;43mstorage_options\u001b[39;49m\u001b[38;5;124;43m\"\u001b[39;49m\u001b[43m,\u001b[49m\u001b[43m \u001b[49m\u001b[38;5;28;43;01mNone\u001b[39;49;00m\u001b[43m)\u001b[49m\u001b[43m,\u001b[49m\n\u001b[1;32m   1744\u001b[0m \u001b[43m\u001b[49m\u001b[43m)\u001b[49m\n\u001b[1;32m   1745\u001b[0m \u001b[38;5;28;01massert\u001b[39;00m \u001b[38;5;28mself\u001b[39m\u001b[38;5;241m.\u001b[39mhandles \u001b[38;5;129;01mis\u001b[39;00m \u001b[38;5;129;01mnot\u001b[39;00m \u001b[38;5;28;01mNone\u001b[39;00m\n\u001b[1;32m   1746\u001b[0m f \u001b[38;5;241m=\u001b[39m \u001b[38;5;28mself\u001b[39m\u001b[38;5;241m.\u001b[39mhandles\u001b[38;5;241m.\u001b[39mhandle\n",
      "File \u001b[0;32m~/anaconda3/envs/python3/lib/python3.10/site-packages/pandas/io/common.py:856\u001b[0m, in \u001b[0;36mget_handle\u001b[0;34m(path_or_buf, mode, encoding, compression, memory_map, is_text, errors, storage_options)\u001b[0m\n\u001b[1;32m    851\u001b[0m \u001b[38;5;28;01melif\u001b[39;00m \u001b[38;5;28misinstance\u001b[39m(handle, \u001b[38;5;28mstr\u001b[39m):\n\u001b[1;32m    852\u001b[0m     \u001b[38;5;66;03m# Check whether the filename is to be opened in binary mode.\u001b[39;00m\n\u001b[1;32m    853\u001b[0m     \u001b[38;5;66;03m# Binary mode does not support 'encoding' and 'newline'.\u001b[39;00m\n\u001b[1;32m    854\u001b[0m     \u001b[38;5;28;01mif\u001b[39;00m ioargs\u001b[38;5;241m.\u001b[39mencoding \u001b[38;5;129;01mand\u001b[39;00m \u001b[38;5;124m\"\u001b[39m\u001b[38;5;124mb\u001b[39m\u001b[38;5;124m\"\u001b[39m \u001b[38;5;129;01mnot\u001b[39;00m \u001b[38;5;129;01min\u001b[39;00m ioargs\u001b[38;5;241m.\u001b[39mmode:\n\u001b[1;32m    855\u001b[0m         \u001b[38;5;66;03m# Encoding\u001b[39;00m\n\u001b[0;32m--> 856\u001b[0m         handle \u001b[38;5;241m=\u001b[39m \u001b[38;5;28;43mopen\u001b[39;49m\u001b[43m(\u001b[49m\n\u001b[1;32m    857\u001b[0m \u001b[43m            \u001b[49m\u001b[43mhandle\u001b[49m\u001b[43m,\u001b[49m\n\u001b[1;32m    858\u001b[0m \u001b[43m            \u001b[49m\u001b[43mioargs\u001b[49m\u001b[38;5;241;43m.\u001b[39;49m\u001b[43mmode\u001b[49m\u001b[43m,\u001b[49m\n\u001b[1;32m    859\u001b[0m \u001b[43m            \u001b[49m\u001b[43mencoding\u001b[49m\u001b[38;5;241;43m=\u001b[39;49m\u001b[43mioargs\u001b[49m\u001b[38;5;241;43m.\u001b[39;49m\u001b[43mencoding\u001b[49m\u001b[43m,\u001b[49m\n\u001b[1;32m    860\u001b[0m \u001b[43m            \u001b[49m\u001b[43merrors\u001b[49m\u001b[38;5;241;43m=\u001b[39;49m\u001b[43merrors\u001b[49m\u001b[43m,\u001b[49m\n\u001b[1;32m    861\u001b[0m \u001b[43m            \u001b[49m\u001b[43mnewline\u001b[49m\u001b[38;5;241;43m=\u001b[39;49m\u001b[38;5;124;43m\"\u001b[39;49m\u001b[38;5;124;43m\"\u001b[39;49m\u001b[43m,\u001b[49m\n\u001b[1;32m    862\u001b[0m \u001b[43m        \u001b[49m\u001b[43m)\u001b[49m\n\u001b[1;32m    863\u001b[0m     \u001b[38;5;28;01melse\u001b[39;00m:\n\u001b[1;32m    864\u001b[0m         \u001b[38;5;66;03m# Binary mode\u001b[39;00m\n\u001b[1;32m    865\u001b[0m         handle \u001b[38;5;241m=\u001b[39m \u001b[38;5;28mopen\u001b[39m(handle, ioargs\u001b[38;5;241m.\u001b[39mmode)\n",
      "\u001b[0;31mFileNotFoundError\u001b[0m: [Errno 2] No such file or directory: 'data_1/rsem_output/SRR11550221celegans.genes.results'"
     ]
    }
   ],
   "source": [
    "import pandas as pd\n",
    "\n",
    "# Path to RSEM results directory\n",
    "rsem_results_dir = 'data_1/rsem_output'\n",
    "\n",
    "# Loop through each file in accs.txt\n",
    "for srr_id in open('accs.txt'):\n",
    "    srr_id = srr_id.strip()  # Remove newline character\n",
    "    rsem_result_file = f'{rsem_results_dir}/{srr_id}celegans.genes.results'\n",
    "\n",
    "    # Load the RSEM results into a Pandas DataFrame\n",
    "    df = pd.read_csv(rsem_result_file, sep='\\t')\n",
    "\n",
    "    # Sort the DataFrame by TPM values in descending order and get the top 10 genes\n",
    "    top_10_genes = df.sort_values(by='TPM', ascending=False).head(10)\n",
    "\n",
    "    # Print the top 10 genes with their TPM values\n",
    "    print(f\"Top 10 Genes by TPM for {srr_id}:\")\n",
    "    print(top_10_genes[['gene_id', 'TPM']])"
   ]
  },
  {
   "cell_type": "markdown",
   "metadata": {},
   "source": [
    "Top 10 most highly expressed genes in the double lysogen samples.\n"
   ]
  },
  {
   "cell_type": "markdown",
   "metadata": {},
   "source": [
    "## STEP 10: Report the expression of WBGene00004512 for each file"
   ]
  },
  {
   "cell_type": "markdown",
   "metadata": {},
   "source": [
    "Use `grep` to report the expression in the wild-type sample. The fields in the RSEM `genes.results` file are as follows. The level of expression is reported in the Transcripts Per Million (`TPM`) and number of reads (`NumReads`) fields:  \n",
    "- `Name`    \n",
    "- `Length`\n",
    "- `EffectiveLength`\n",
    "- `TPM`\n",
    "- `NumReads`"
   ]
  },
  {
   "cell_type": "code",
   "execution_count": null,
   "metadata": {},
   "outputs": [],
   "source": [
    "import pandas as pd\n",
    "\n",
    "# Path to RSEM results directory\n",
    "rsem_results_dir = 'data_1/rsem_output'\n",
    "\n",
    "# Target gene ID\n",
    "target_gene = 'WBGene00004512'\n",
    "\n",
    "# Loop through each file in accs.txt\n",
    "for srr_id in open('accs.txt'):\n",
    "    srr_id = srr_id.strip()  # Remove newline character\n",
    "    rsem_result_file = f'{rsem_results_dir}/{srr_id}celegans.genes.results'\n",
    "\n",
    "    # Load the RSEM results into a Pandas DataFrame\n",
    "    df = pd.read_csv(rsem_result_file, sep='\\t')\n",
    "\n",
    "    # Filter for the target gene\n",
    "    target_gene_data = df[df['gene_id'] == target_gene]\n",
    "\n",
    "    # Print the target gene's TPM value for the SRR ID\n",
    "    print(f\"TPM for {target_gene} in {srr_id}: {target_gene_data['TPM'].values[0]}\")"
   ]
  },
  {
   "cell_type": "markdown",
   "metadata": {},
   "source": [
    "## <a name=\"workflow\">Additional Workflows</a>"
   ]
  },
  {
   "cell_type": "markdown",
   "metadata": {},
   "source": [
    "Now that you have read counts per gene, feel free to explore the R workflow which creates plots and analyses using these readcount files, or try other alternate workflows for creating read count files, such as using snakemake."
   ]
  },
  {
   "cell_type": "markdown",
   "metadata": {},
   "source": [
    "\n",
    "[Workflow One (Extended):](Tutorial_1B_Extended_celegans.ipynb) An extended version of workflow one. Once you have got your feet wet, you can retry workflow one with this extended version that covers the entire dataset.\n",
    "\n",
    "[Workflow Two (DEG Analysis):](Tutorial_2_DEG_Analysis_celegans.ipynb) Using Deseq2 and R to conduct clustering and differential gene expression analysis.\n"
   ]
  }
 ],
 "metadata": {
  "kernelspec": {
   "display_name": "conda_python3",
   "language": "python",
   "name": "conda_python3"
  },
  "language_info": {
   "codemirror_mode": {
    "name": "ipython",
    "version": 3
   },
   "file_extension": ".py",
   "mimetype": "text/x-python",
   "name": "python",
   "nbconvert_exporter": "python",
   "pygments_lexer": "ipython3",
   "version": "3.10.17"
  }
 },
 "nbformat": 4,
 "nbformat_minor": 4
}
