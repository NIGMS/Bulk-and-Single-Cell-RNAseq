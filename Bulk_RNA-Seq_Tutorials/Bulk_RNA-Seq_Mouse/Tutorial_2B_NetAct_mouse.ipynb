{
 "cells": [
  {
   "cell_type": "markdown",
   "id": "1972b325-939a-4251-840d-329c61b9121e",
   "metadata": {},
   "source": [
    "# RNA-Seq Analysis Training Demo"
   ]
  },
  {
   "cell_type": "markdown",
   "id": "18958075-0123-4779-bd9a-c4a354e578fd",
   "metadata": {},
   "source": [
    "## Overview:"
   ]
  },
  {
   "cell_type": "markdown",
   "id": "fd885295-4fb7-4f5a-a22f-9c1033348c6e",
   "metadata": {},
   "source": [
    "This code provides a comprehensive framework for analyzing RNA-Seq data to identify differentially expressed genes and investigate potential regulatory mechanisms. The code will analyze read count data, followed by differential expression analysis utilizing the DESeq2 and edgeR packages to pinpoint genes with statistically significant expression changes between experimental groups. Additionally, the code explores the regulatory landscape by identifying potential transcription factors (TFs) involved in modulating these differentially expressed genes using the NetAct package. It further estimates TF activity levels and constructs networks of interactions among these TFs. \n",
    "\n",
    "Overall, this demo serves to illustrates the essential steps in RNA-Seq analysis, emphasizing the identification of differential expression and the exploration of TF regulatory networks."
   ]
  },
  {
   "cell_type": "markdown",
   "id": "6d34a077-284e-44e9-9b06-f6d7322ddfcc",
   "metadata": {},
   "source": [
    "<div class=\"alert alert-block alert-warning\"> NOTE: This Jupyter Notebook was developed to run within a customized container on AWS with all software and packages pre-configured. If running without this customized container, you will need to install tools using the Miniforge environment setup instructions below before moving on to <b><u>Step 1.3</u></b>.</div>"
   ]
  },
  {
   "cell_type": "markdown",
   "id": "316e56a9-e76a-4720-855a-e3bea0c7dca0",
   "metadata": {},
   "source": [
    "## STEP 1: Getting Started"
   ]
  },
  {
   "cell_type": "markdown",
   "id": "1068f273-d733-4a5e-8a99-b2f930de7c90",
   "metadata": {},
   "source": [
    "### Without Container: Install Miniforge and R Packages"
   ]
  },
  {
   "cell_type": "markdown",
   "id": "9b6fafbe-3951-4f0e-855b-593480aad362",
   "metadata": {},
   "source": [
    "Miniforge is a lightweight Conda distribution that offers a streamlined installation process and efficient package management. It provides access to a vast repository of packages.\n",
    "\n",
    "The following code performs these steps:\n",
    "- Downloads Miniforge or Mambaforge (you can use either based on preference)\n",
    "- Installs Miniforge (or Mambaforge) - no need to install conda since mamba will be available immediately\n",
    "- Installs gsutil and dependencies\n",
    "- Using miniforge and bioconda, installs R packages that will be used in this tutorial\n"
   ]
  },
  {
   "cell_type": "markdown",
   "id": "a3a2f0e3-225d-40ba-9b49-c0c66e5293e6",
   "metadata": {},
   "source": [
    "<div class=\"alert alert-block alert-info\">Tip: If using the Miniforge install, run the following code cells by removing the # pound from each command line. </div>"
   ]
  },
  {
   "cell_type": "code",
   "execution_count": null,
   "id": "2b4fea91-148a-44d9-a502-25ff91691a20",
   "metadata": {},
   "outputs": [],
   "source": [
    "# Download Miniforge\n",
    "#system('curl -L -O https://github.com/conda-forge/miniforge/releases/latest/download/Miniforge3-$(uname)-$(uname -m).sh', intern = TRUE)\n",
    "\n",
    "# Install Miniforge\n",
    "#system('bash Miniforge3-$(uname)-$(uname -m).sh -b -u -p $HOME/miniforge', intern = TRUE)\n",
    "\n",
    "# Add Miniforge bin to the system path\n",
    "#Sys.setenv(PATH = paste(Sys.getenv(\"HOME\"), \"/miniforge/bin:\", Sys.getenv(\"PATH\"), sep = \"\"))\n"
   ]
  },
  {
   "cell_type": "markdown",
   "id": "620961e5-909d-45fa-b538-74897c6b67eb",
   "metadata": {},
   "source": [
    "Next, using mambaforge and bioconda, install the tools that will be used in this tutorial."
   ]
  },
  {
   "cell_type": "code",
   "execution_count": null,
   "id": "4577d77f-bcf0-4f70-81a8-28689d49628c",
   "metadata": {},
   "outputs": [],
   "source": [
    "# Install gsutil and dependencies using mamba\n",
    "#system('mamba install -y -c conda-forge -c bioconda gsutil', intern = TRUE)"
   ]
  },
  {
   "cell_type": "markdown",
   "id": "2f59f812-f332-42d6-876c-315f3325b9d7",
   "metadata": {},
   "source": [
    "<div class=\"alert alert-block alert-info\">Tip: If using the Miniforge install, run the following code cells by removing the # pound from each command line. </div>"
   ]
  },
  {
   "cell_type": "markdown",
   "id": "f242aa89-48ec-492e-8958-cf9ff2b0090e",
   "metadata": {},
   "source": [
    "### STEP 1.2 Install Bioconductor Packages"
   ]
  },
  {
   "cell_type": "code",
   "execution_count": null,
   "id": "6bff2367-60d7-4bee-9bb0-c1b48f6a6fc7",
   "metadata": {},
   "outputs": [],
   "source": [
    "# Install BiocManager if not installed\n",
    "#if (!requireNamespace(\"BiocManager\", quietly = TRUE))\n",
    "#    install.packages(\"BiocManager\")\n",
    "\n",
    "# Set repositories\n",
    "#options(repos = BiocManager::repositories())\n",
    "\n",
    "# Install Bioconductor packages\n",
    "#BiocManager::install(c(\"ComplexHeatmap\", \"DESeq2\", \"edgeR\"), force = TRUE)\n",
    "\n",
    "# Install CRAN packages\n",
    "#install.packages(c(\"dplyr\", \"pheatmap\", \"ggrepel\", \"ggfortify\", \"devtools\", \"R.utils\"), dependencies = TRUE)\n",
    "\n",
    "# Install Devtools packages\n",
    "#devtools::install_github(\"lusystemsbio/NetAct\", dependencies = TRUE, build_vignettes = FALSE)"
   ]
  },
  {
   "cell_type": "markdown",
   "id": "588e8370-edad-412d-b1db-8db9c2953e50",
   "metadata": {},
   "source": [
    "---------------------------------------"
   ]
  },
  {
   "cell_type": "markdown",
   "id": "e61b491f-3ed7-4558-9adc-927f34c32f78",
   "metadata": {},
   "source": [
    "## If running from a container, as noted above, start with <b> STEP 1.3 </b> below:"
   ]
  },
  {
   "cell_type": "markdown",
   "id": "d429aded-447b-419e-a4f7-74f235996d1a",
   "metadata": {},
   "source": [
    "### STEP 1.3 Load libraries"
   ]
  },
  {
   "cell_type": "code",
   "execution_count": null,
   "id": "55a4034c-77b8-422e-955c-fe10b947a85c",
   "metadata": {},
   "outputs": [],
   "source": [
    "# Install CRAN package ggfortify, even if running from container\n",
    "install.packages(\"ggfortify\", dependencies = False)"
   ]
  },
  {
   "cell_type": "code",
   "execution_count": null,
   "id": "d764cad0-34c8-4774-bcf8-7a806a509bc6",
   "metadata": {},
   "outputs": [],
   "source": [
    "library(DESeq2)\n",
    "library(dplyr)\n",
    "library(ComplexHeatmap)\n",
    "library(edgeR)\n",
    "library(ggplot2)\n",
    "library(ggrepel)\n",
    "library(ggfortify)\n",
    "library(devtools)\n",
    "library(Biobase)\n",
    "library(R.utils)\n",
    "library(NetAct)"
   ]
  },
  {
   "cell_type": "markdown",
   "id": "29bfb5ec-1b98-42f0-9364-3c51021b4a85",
   "metadata": {},
   "source": [
    "## STEP 2: Download FASTQ Files from S3"
   ]
  },
  {
   "cell_type": "markdown",
   "id": "4ef5b2d6-a34c-48a7-a7e3-14d4ccec58ca",
   "metadata": {},
   "source": [
    "Download the read counts from the S3 bucket created by STAR and RSEM analysis in Tutorial 1b."
   ]
  },
  {
   "cell_type": "code",
   "execution_count": null,
   "id": "564694b9-90a3-4cc3-9723-0c63ab9b7653",
   "metadata": {},
   "outputs": [],
   "source": [
    "# Define the correct path for your files\n",
    "path <- \"data/counts/\"\n",
    "\n",
    "# Load SRR IDs from accs.txt (if available)\n",
    "accs <- readLines('accs.txt')\n",
    "\n",
    "# Define the path to the S3 bucket\n",
    "s3_path <- 's3://nigms-sandbox/bulk-scRNAseq/readcounts/'\n",
    "\n",
    "# STEP 5: Download FASTQ files from S3 bucket\n",
    "for (acc in accs) {\n",
    "  # Construct the command\n",
    "  cmd <- paste(\"aws s3 cp\", paste0(s3_path, acc, \".genes.txt\"), \"data/counts/\")\n",
    "  \n",
    "  # Execute the shell command\n",
    "  system(cmd)\n",
    "}"
   ]
  },
  {
   "cell_type": "code",
   "execution_count": null,
   "id": "268591bc-61e5-40ef-ad46-5061497d35bb",
   "metadata": {},
   "outputs": [],
   "source": [
    "# Define the correct path for your files\n",
    "path <- \"data/counts/\"\n",
    "\n",
    "# Load SRR IDs from accs.txt (if available)\n",
    "accs <- readLines('accs.txt')\n",
    "\n",
    "# Define the base URL for the S3 bucket\n",
    "base_url <- 'https://nigms-sandbox.s3.us-east-1.amazonaws.com/bulk-scRNAseq/readcounts/'\n",
    "\n",
    "# STEP 5: Download gene count files using wget\n",
    "for (acc in accs) {\n",
    "  # Construct the full URL for each file\n",
    "  file_url <- paste0(base_url, acc, \".genes.txt\")\n",
    "  \n",
    "  # Construct the wget command\n",
    "  cmd <- paste(\"wget -P\", path, file_url)\n",
    "  \n",
    "  # Execute the shell command\n",
    "  system(cmd)\n",
    "}"
   ]
  },
  {
   "cell_type": "markdown",
   "id": "dccb3534-b6ba-4c65-adc0-5243a88c87a1",
   "metadata": {},
   "source": [
    "## STEP 3: Read Count Data and Define Experimental Groups"
   ]
  },
  {
   "cell_type": "markdown",
   "id": "c20552ac-6465-4f8e-a6f8-67a0f92dc8ea",
   "metadata": {},
   "source": [
    "Step 3 is focused on reading in the gene expression data from previously generated files and organizing it for further analysis, specifically for differential expression analysis using the edgeR package."
   ]
  },
  {
   "cell_type": "code",
   "execution_count": null,
   "id": "3afb5591-c363-4a95-a5a0-78d2f9b286a1",
   "metadata": {},
   "outputs": [],
   "source": [
    "# List the files with full paths\n",
    "files <- paste0(path, c(\"SRR21972725.genes.txt\", \"SRR21972724.genes.txt\", \n",
    "                        \"SRR21972723.genes.txt\", \"SRR21972726.genes.txt\",\n",
    "                        \"SRR21972730.genes.txt\", \"SRR21972729.genes.txt\", \n",
    "                        \"SRR21972728.genes.txt\", \"SRR21972727.genes.txt\"))\n",
    "\n",
    "# Read the DGE data from the files\n",
    "x <- edgeR::readDGE(files, columns=c(\"GeneID\",\"Count\"))\n",
    "x$counts <- round(x$counts)\n",
    "\n",
    "# Define the group factor\n",
    "group <- as.factor(c(\"PSAP\", \"PSAP\", \"PSAP\", \"PSAP\", \"GFP\", \"GFP\", \"GFP\", \"GFP\"))\n",
    "xgroup <- group\n",
    "\n",
    "# Define the sample names and set column names\n",
    "samplenames <- c(\"PSAP1\", \"PSAP2\", \"PSAP3\", \"PSAP4\", \"GFP1\", \"GFP2\", \"GFP3\", \"GFP4\")\n",
    "colnames(x) <- samplenames"
   ]
  },
  {
   "cell_type": "markdown",
   "id": "d4a9c7dd-9484-4b08-b18c-485e220f8365",
   "metadata": {},
   "source": [
    "## STEP 4: Data Preprocessing for Differential Expression Analysis"
   ]
  },
  {
   "cell_type": "markdown",
   "id": "e431ffc4-5cd1-4f7c-ae74-f33d4aa72289",
   "metadata": {},
   "source": [
    "This preprocesses the RNA-seq count data to prepare it for differential expression analysis. It creates a comparison list for the analysis, constructs phenotype data to annotate samples, preprocesses the counts, and removes any duplicate gene entries. These steps ensure the quality and integrity of the data before applying statistical methods to identify differentially expressed genes between the specified groups."
   ]
  },
  {
   "cell_type": "code",
   "execution_count": null,
   "id": "19cefccc-6ab1-403d-9289-c403f3a159fc",
   "metadata": {},
   "outputs": [],
   "source": [
    "compList <- c(\"PSAP-GFP\")\n",
    "phenoData = new(\"AnnotatedDataFrame\", data = data.frame(celltype = group))\n",
    "rownames(phenoData) = colnames(x$counts)"
   ]
  },
  {
   "cell_type": "code",
   "execution_count": null,
   "id": "165b08cf-503e-43ba-bca6-1058134bd73e",
   "metadata": {},
   "outputs": [],
   "source": [
    "counts <- Preprocess_counts(counts = x$counts, groups = group, mouse = TRUE)\n",
    "# Remove duplicate rows, keeping the first occurrence\n",
    "counts <- counts[!duplicated(rownames(counts)), ]"
   ]
  },
  {
   "cell_type": "markdown",
   "id": "f70c090f-338f-4200-badb-a83a3439317c",
   "metadata": {},
   "source": [
    "### STEP 5: Run Differential Expression Analysis and Create Expression Set"
   ]
  },
  {
   "cell_type": "markdown",
   "id": "da4bacb7-35d1-445b-a0a2-664223094111",
   "metadata": {},
   "source": [
    "This step identifies genes that are differentially expressed between the specified experimental groups and prepares the data for downstream analysis by creating a structured expression set object"
   ]
  },
  {
   "cell_type": "code",
   "execution_count": null,
   "id": "d9f64911-a601-4d6b-acc8-ee430f711971",
   "metadata": {},
   "outputs": [],
   "source": [
    "DErslt = RNAseqDegs_limma(counts = counts, phenodata = phenoData, \n",
    "                          complist = compList, qval = 0.05)"
   ]
  },
  {
   "cell_type": "code",
   "execution_count": null,
   "id": "98cf4dfb-1a82-4cf6-8cff-3666c2fdcafa",
   "metadata": {},
   "outputs": [],
   "source": [
    "neweset = Biobase::ExpressionSet(assayData = as.matrix(DErslt$e), phenoData = phenoData)"
   ]
  },
  {
   "cell_type": "code",
   "execution_count": null,
   "id": "a2b7bd39-29f4-499e-8c25-0e9eb2a8a9cd",
   "metadata": {},
   "outputs": [],
   "source": [
    "DErslt$e"
   ]
  },
  {
   "cell_type": "markdown",
   "id": "f83f357c-eed5-4356-aae5-670939fa9b56",
   "metadata": {},
   "source": [
    "### STEP 6: Perform Transcription Factor (TF) Selection"
   ]
  },
  {
   "cell_type": "markdown",
   "id": "2ab7b1f7-aa13-4293-b6f0-e28cc474421e",
   "metadata": {},
   "source": [
    "This step will identify transcription factors (TFs) that are potentially involved in regulating the differentially expressed genes. By utilizing a database of TFs and employing statistical testing, this analysis aims to uncover crucial regulators that may contribute to the observed changes in gene expression."
   ]
  },
  {
   "cell_type": "code",
   "execution_count": null,
   "id": "349f1bc7-6c16-4f75-a293-6e7adfeb23c5",
   "metadata": {},
   "outputs": [],
   "source": [
    "data(\"mDB\")\n",
    "calc <- TRUE\n",
    "\n",
    "if (calc) {\n",
    "  gsearslts <- TF_Selection(GSDB = mDB, DErslt = DErslt, minSize = 5, nperm = 10000,\n",
    "                            qval = 0.05, compList = compList,\n",
    "                            nameFile = \"mouse_gsearslts\")\n",
    "} else {\n",
    "  gsearslts <- readRDS(file = \"mouse_gsearslts.RDS\")\n",
    "}\n",
    "\n",
    "tfs <- gsearslts$tfs\n",
    "tfs"
   ]
  },
  {
   "cell_type": "markdown",
   "id": "c9b585be-5a0a-4d31-8a50-fdea8b99623b",
   "metadata": {},
   "source": [
    "### STEP 7: Reselect Transcription Factors (TFs) by Applying a Stricter q-value Threshold of 0.01"
   ]
  },
  {
   "cell_type": "markdown",
   "id": "b5001fde-0711-475b-995a-c094e0045939",
   "metadata": {},
   "source": [
    "The revised text accurately conveys the purpose of this step. By applying a stricter q-value threshold of 0.01, the code refines the selection of TFs, ensuring that only those with a higher level of statistical significance are retained. This refinement is crucial for downstream analyses as it helps to prioritize the most relevant TFs that may be driving the observed gene expression changes."
   ]
  },
  {
   "cell_type": "code",
   "execution_count": null,
   "id": "50fa9931-69d2-4f40-8993-625a4309419f",
   "metadata": {},
   "outputs": [],
   "source": [
    "Reselect_TFs(GSEArslt = gsearslts$GSEArslt, qval = 0.01)"
   ]
  },
  {
   "cell_type": "markdown",
   "id": "5789efa1-601e-440e-95ae-3c02a6a432a9",
   "metadata": {},
   "source": [
    "### STEP 8: Calculate TF Activity"
   ]
  },
  {
   "cell_type": "markdown",
   "id": "c9b432ea-9ec2-44bc-9924-16f922a0f62f",
   "metadata": {},
   "source": [
    "Calculating TF activity is crucial for understanding the regulatory mechanisms underlying the differential expression of genes. By assessing how active specific transcription factors are in different experimental groups, researchers can gain insights into the regulatory networks that may influence biological processes and pathways of interest. The heatmap visualization further aids in the interpretation of these results, highlighting the relationships between TF activity and gene expression patterns."
   ]
  },
  {
   "cell_type": "code",
   "execution_count": null,
   "id": "f01319ac-fb54-4fc1-aa39-89a468452ea3",
   "metadata": {},
   "outputs": [],
   "source": [
    "act.me <- TF_Activity(tfs, mDB, neweset, DErslt)\n",
    "acts_mat = act.me$all_activities\n",
    "Activity_heatmap(acts_mat, neweset)"
   ]
  },
  {
   "cell_type": "markdown",
   "id": "7351491c-c4ff-4787-bcc8-8ab74525df0c",
   "metadata": {},
   "source": [
    "### STEP 9: Build TF Network and Simulate Circuit"
   ]
  },
  {
   "cell_type": "markdown",
   "id": "e8bb6266-9e14-4ab2-a514-080e60cd2948",
   "metadata": {},
   "source": [
    "TF_Filter function constructs a filtered network of transcription factor interactions based on activity levels and known regulatory links, setting the stage for subsequent analysis and the transcriptional regulatory network plot."
   ]
  },
  {
   "cell_type": "code",
   "execution_count": null,
   "id": "94601b12-47c8-436a-a7e7-9d93a0a0bc89",
   "metadata": {},
   "outputs": [],
   "source": [
    "tf_links = TF_Filter(acts_mat, mDB, miTh = .05, nbins = 8, corMethod = \"spearman\", DPI = T)"
   ]
  },
  {
   "cell_type": "markdown",
   "id": "2e0762b0-da02-4f14-8107-b02234842d6f",
   "metadata": {},
   "source": [
    "### STEP 10: Plot the transcription factor network"
   ]
  },
  {
   "cell_type": "markdown",
   "id": "9a583c03-eea1-4573-b20d-d6e8560ec06c",
   "metadata": {},
   "source": [
    "After the TF analysis, the plot_network function effectively visualizes the transcription factor network, enabling researchers to intuitively understand the complex regulatory interactions among TFs and their target genes."
   ]
  },
  {
   "cell_type": "code",
   "execution_count": null,
   "id": "bcdf312b-1048-47e1-86bf-275280bb9e2b",
   "metadata": {},
   "outputs": [],
   "source": [
    "plot_network(tf_links)"
   ]
  },
  {
   "cell_type": "markdown",
   "id": "bee814d4-59ad-4cd0-9cfe-7ed15618a88b",
   "metadata": {},
   "source": [
    "### STEP 11: Run RACIPE simulation on the constructed GRN"
   ]
  },
  {
   "cell_type": "markdown",
   "id": "4ff99700-4474-4ddc-b9ec-c654481c1f42",
   "metadata": {},
   "source": [
    "Lastly, the RACIPE simulation is executed on the constructed gene regulatory network, allowing for the exploration of gene expression dynamics under varying regulatory parameters. The results can help to derive conclusions about the potential regulatory mechanisms at play and to identify key transcription factors that might be crucial in the system."
   ]
  },
  {
   "cell_type": "code",
   "execution_count": null,
   "id": "56845776-a7bb-40cf-b04f-9775012fc3ed",
   "metadata": {},
   "outputs": [],
   "source": [
    "racipe_results <- sRACIPE::sracipeSimulate(circuit = tf_links, numModels = 200, plots = TRUE)"
   ]
  }
 ],
 "metadata": {
  "kernelspec": {
   "display_name": "R",
   "language": "R",
   "name": "ir"
  },
  "language_info": {
   "codemirror_mode": "r",
   "file_extension": ".r",
   "mimetype": "text/x-r-source",
   "name": "R",
   "pygments_lexer": "r",
   "version": "4.4.3"
  }
 },
 "nbformat": 4,
 "nbformat_minor": 5
}
