{
 "cells": [
  {
   "cell_type": "markdown",
   "metadata": {},
   "source": [
    "# RNA-Seq Analysis Training Demo"
   ]
  },
  {
   "cell_type": "markdown",
   "metadata": {},
   "source": [
    "## Overview"
   ]
  },
  {
   "cell_type": "markdown",
   "metadata": {},
   "source": [
    "This tutorial will show you the following workflow that is used to generate the list of differentially expressed genes. Running the code in this tutorial should take approximately 15 minutes. This workflow centers roughly around the useage of the deseq2 package. Documentation for this package can be found here: https://bioconductor.org/packages/release/bioc/vignettes/DESeq2/inst/doc/DESeq2.html\n",
    "\n",
    "![Mouse Bulk RNA-seq workflow](../../images/count-workflow.png)"
   ]
  },
  {
   "cell_type": "markdown",
   "metadata": {},
   "source": [
    "## Learning Objectives\n",
    "\n",
    "- Explore an example Bulk RNA-sequencing dataset\n",
    "- Understand the workflow of using read counts to generate a list of differentially expressed genes (DEG), including:\n",
    "    - R package install and loading\n",
    "    - Experimental design\n",
    "    - Data normalization\n",
    "    - Plotting\n",
    "    - Contrast comparisons\n",
    "- Annotate and export list of DEGs"
   ]
  },
  {
   "cell_type": "markdown",
   "metadata": {},
   "source": [
    "## STEP 1: Getting Started"
   ]
  },
  {
   "cell_type": "markdown",
   "metadata": {},
   "source": [
    "<div class=\"alert alert-block alert-warning\"> NOTE: This Jupyter Notebook was developed to run within a customized container on AWS with all software and packages pre-configured. If running without this customized container, you will need to install tools using the Miniforge environment setup instructions below before moving on to Step 2.</div>"
   ]
  },
  {
   "cell_type": "markdown",
   "metadata": {},
   "source": [
    "### Without Container: Install Miniforge and R Packages"
   ]
  },
  {
   "cell_type": "markdown",
   "metadata": {},
   "source": [
    "Miniforge is a lightweight Conda distribution that offers a streamlined installation process and efficient package management. It provides access to a vast repository of packages.\n",
    "\n",
    "The following code performs these steps:\n",
    "- Downloads Miniforge or Mambaforge (you can use either based on preference)\n",
    "- Installs Miniforge (or Mambaforge) - no need to install conda since mamba will be available immediately\n",
    "- Installs gsutil and dependencies\n",
    "- Using miniforge and bioconda, installs R packages that will be used in this tutorial\n"
   ]
  },
  {
   "cell_type": "markdown",
   "metadata": {},
   "source": [
    "<div class=\"alert alert-block alert-info\">Tip: If using the Miniforge install, run the following code cells by removing the # pound from each command line. </div>"
   ]
  },
  {
   "cell_type": "code",
   "execution_count": null,
   "metadata": {},
   "outputs": [],
   "source": [
    "# Download Miniforge\n",
    "#system('curl -L -O https://github.com/conda-forge/miniforge/releases/latest/download/Miniforge3-$(uname)-$(uname -m).sh', intern = TRUE)\n",
    "\n",
    "# Install Miniforge\n",
    "#system('bash Miniforge3-$(uname)-$(uname -m).sh -b -u -p $HOME/miniforge', intern = TRUE)\n",
    "\n",
    "# Add Miniforge bin to the system path\n",
    "#Sys.setenv(PATH = paste(Sys.getenv(\"HOME\"), \"/miniforge/bin:\", Sys.getenv(\"PATH\"), sep = \"\"))"
   ]
  },
  {
   "cell_type": "code",
   "execution_count": null,
   "metadata": {},
   "outputs": [],
   "source": [
    "# Install gsutil and dependencies using mamba\n",
    "#system('mamba install -y -c conda-forge -c bioconda gsutil', intern = TRUE)"
   ]
  },
  {
   "cell_type": "markdown",
   "metadata": {},
   "source": [
    "### STEP 1: Library Installation\n",
    "\n",
    "First install the R packages that will be used. <strong>This installation may take around 30 minutes.</strong>"
   ]
  },
  {
   "cell_type": "markdown",
   "metadata": {},
   "source": [
    "<div class=\"alert alert-block alert-info\">Tip: If using the Miniforge install, run the following code cells by removing the # pound from each command line. </div>"
   ]
  },
  {
   "cell_type": "code",
   "execution_count": null,
   "metadata": {},
   "outputs": [],
   "source": [
    "# Install BiocManager if not installed\n",
    "#if (!requireNamespace(\"BiocManager\", quietly = TRUE))\n",
    "#    install.packages(\"BiocManager\")\n",
    "\n",
    "# Set repositories\n",
    "#options(repos = BiocManager::repositories())\n",
    "\n",
    "# Install Bioconductor packages\n",
    "#BiocManager::install(c(\"ComplexHeatmap\", \"DESeq2\", \"EnhancedVolcano\"), force = TRUE)\n",
    "\n",
    "# Install CRAN packages\n",
    "#install.packages(c(\"dplyr\", \"pheatmap\", \"ggrepel\"), dependencies = TRUE)"
   ]
  },
  {
   "cell_type": "markdown",
   "metadata": {},
   "source": [
    "----------------------------------------------------"
   ]
  },
  {
   "cell_type": "markdown",
   "metadata": {},
   "source": [
    "## If running from a container, as noted above, start with <b> STEP 2 </b> below:"
   ]
  },
  {
   "cell_type": "markdown",
   "metadata": {},
   "source": [
    "### STEP 2.1: Load Libraries"
   ]
  },
  {
   "cell_type": "code",
   "execution_count": null,
   "metadata": {},
   "outputs": [],
   "source": [
    "# Install CRAN package ggfortify, even if running from container\n",
    "install.packages(\"ggfortify\", dependencies = FALSE)"
   ]
  },
  {
   "cell_type": "code",
   "execution_count": null,
   "metadata": {},
   "outputs": [],
   "source": [
    "# Load libraries\n",
    "library(DESeq2)\n",
    "library(dplyr)\n",
    "library(ComplexHeatmap)\n",
    "library(EnhancedVolcano)\n",
    "library(ggplot2)\n",
    "library(ggrepel)\n",
    "library(ggfortify)"
   ]
  },
  {
   "cell_type": "markdown",
   "metadata": {},
   "source": [
    "### STEP 2.2: Reading in Data\n",
    "\n",
    "This step retrieve the Merged Read counts from all samples of Bioproject PRJNA318296, and the feature table, from S3 Bucket. This step involves reformatting or adjusting the data.\n",
    "\n",
    "To make things easier, we created a matrix, or a table, of just our read-count data -- excluding the non-numerical metadata columns. This makes it easy for us to feed this table into the deseq2 tool later on.\n",
    "\n",
    "Additionally, later on we will use normalization involving logarithms. So, to prevent errors, we will replace all readcount values of '0' in our data, with '1'. This will change the data only slightly, and will prevent these zeroes from causing an 'undefined' or 'N/A' math error in the logarithm normalization step.\n"
   ]
  },
  {
   "cell_type": "code",
   "execution_count": null,
   "metadata": {},
   "outputs": [],
   "source": [
    "# Check if the directories exist before creating them\n",
    "if (!dir.exists(\"data/gene_counts\")) {\n",
    "  dir.create(\"data/gene_counts\", recursive = TRUE)\n",
    "}\n",
    "\n",
    "if (!dir.exists(\"data/reference\")) {\n",
    "  dir.create(\"data/reference\", recursive = TRUE)\n",
    "}\n",
    "\n",
    "# Path to the gene counts file\n",
    "system(\"wget -P data/gene_counts/ https://nigms-sandbox.s3.us-east-1.amazonaws.com/bulk-scRNAseq/readcounts/merged_gene_counts_zebrafish.txt\")\n",
    "system(\"wget -P data/reference/ https://nigms-sandbox.s3.us-east-1.amazonaws.com/bulk-scRNAseq/reference/zebrafish_feature_table.txt\")\n",
    "\n",
    "# Define the file paths\n",
    "counts_file <- \"data/gene_counts/merged_gene_counts_zebrafish.txt\"\n",
    "feature_table <- \"data/reference/zebrafish_feature_table.txt\"\n"
   ]
  },
  {
   "cell_type": "code",
   "execution_count": null,
   "metadata": {},
   "outputs": [],
   "source": [
    "#read-in the raw gene count file to a dataframe variable we named 'read_counts'\n",
    "read_counts <- read.table('data/gene_counts/merged_gene_counts_zebrafish.txt',head=TRUE)\n",
    "\n",
    "#amount of columns the dataframe has\n",
    "cols = ncol(read_counts)\n",
    "\n",
    "#assign the numerical read counts to a matrix variable we named 'rnaseqMatrix'\n",
    "rnaseqMatrix <- round(read_counts[,c(2:cols)])\n",
    "\n",
    "#label the rownames of this matrix with the rowname column from the gene count dataframe.\n",
    "rownames(rnaseqMatrix) <- read_counts[,1]\n",
    "\n",
    "head(rnaseqMatrix)"
   ]
  },
  {
   "cell_type": "markdown",
   "metadata": {},
   "source": [
    "### STEP 3: Specifying Experimental Design\n",
    "\n",
    "Next specify the experimental design. \n",
    "\n",
    "The deseq2 tool will later use this design to group samples together, and output information about the statistical differences in gene expression between these specified groups."
   ]
  },
  {
   "cell_type": "code",
   "execution_count": null,
   "metadata": {},
   "outputs": [],
   "source": [
    "# define the sample experimental design, in this case 3 control and 3 cortisol infected samples\n",
    "samples_treatment <- data.frame(matrix(c(rep(\"DMSO control\",3),rep(\"cortisol\",3)),ncol=1))\n",
    "samples_ID <- data.frame(matrix(colnames(rnaseqMatrix),ncol=1))\n",
    "samples <- cbind(samples_ID,samples_treatment)\n",
    "names(samples) <- c(\"ID\",\"Treatment\")\n",
    "rownames(samples) <- samples[,1]\n",
    "\n",
    "print(\"An example of how a deseq2 experimental design table might look.\")\n",
    "samples"
   ]
  },
  {
   "cell_type": "markdown",
   "metadata": {},
   "source": [
    "### STEP 4: Creating Deseq2 Object\n",
    "\n",
    "Now use the treatment design matrix in combination with the readcount matrix to create a deseq2 object. \n",
    "\n",
    "Once created, this is also a good opportunity to filter out lowly expresseed genes, and to inspect the pre-normalized data using pairwise comparison plots. These example plots, the pairwise plot and boxplot, can be used to examine gene expression distributions and highlight outliers.\n",
    "\n",
    "Finally, the deseq2 analysis can be run on the deseq2 object."
   ]
  },
  {
   "cell_type": "code",
   "execution_count": null,
   "metadata": {},
   "outputs": [],
   "source": [
    "#Create the DEseq2DataSet object\n",
    "deseq2Data <- DESeqDataSetFromMatrix(countData = rnaseqMatrix, colData = samples, design = ~ Treatment)\n",
    "\n",
    "# Perform pre-filtering of the data (deseq2 also automatically does this, but can this can increase speed)\n",
    "deseq2Data <- deseq2Data[rowSums(counts(deseq2Data)) > 10, ]\n",
    "\n",
    "# Inspect pre-normalized data \n",
    "pairs(log2((counts(deseq2Data)+1)))\n",
    "boxplot(log2((counts(deseq2Data)+1)))\n",
    "\n",
    "# Run pipeline for differential expression steps\n",
    "deseq2Data <- DESeq(deseq2Data)\n"
   ]
  },
  {
   "cell_type": "markdown",
   "metadata": {},
   "source": [
    "### STEP 5: Normalize Data\n",
    "\n",
    "DESeq2 automatically normalizes data in the DESeq() step using a method called median of ratios. For our own downstream analysis we can pick from several different normalization methods. As an example, here we use rlog transformation, or regularized log transformation to normalize data. This method is similar to log normalization, but includes a 'shrinkage' estimator to attempt to shrink the variance of the log-transformed data. More information for this and other normalization methods can be found in the DESeq2 documentation. \n",
    "\n",
    "Normalization of gene readcounts across samples will help to minimize sample variation noise and ensure more accurate comparisons. Looking at normalized plots can be an easy way to look out for any obvious inconsistencies or errors in the sample data. "
   ]
  },
  {
   "cell_type": "code",
   "execution_count": null,
   "metadata": {},
   "outputs": [],
   "source": [
    "#perform rlog normalization on deseq2 object\n",
    "rld <- rlog(deseq2Data, blind=FALSE)\n",
    "\n",
    "#a handy variable so we can easily reference the rlog genecount matrix in the future, as deseq objects contain many tables of data.\n",
    "rlogcounts <- assay(rld)\n",
    "rownames(rlogcounts) <- rownames(deseq2Data)\n",
    "\n",
    "head(rlogcounts)"
   ]
  },
  {
   "cell_type": "markdown",
   "metadata": {},
   "source": [
    "Normalization of data can is often verified by inspecting by various plots, such as histograms (these typically follow a negative binomial distribution, as shown below):"
   ]
  },
  {
   "cell_type": "code",
   "execution_count": null,
   "metadata": {},
   "outputs": [],
   "source": [
    "hist(rlogcounts)"
   ]
  },
  {
   "cell_type": "markdown",
   "metadata": {},
   "source": [
    "Boxplots:"
   ]
  },
  {
   "cell_type": "code",
   "execution_count": null,
   "metadata": {},
   "outputs": [],
   "source": [
    "boxplot(rlogcounts)"
   ]
  },
  {
   "cell_type": "markdown",
   "metadata": {},
   "source": [
    "Or pairwise comparison plots. Notice how sample groups can be visualized just by looking at the pairwise plot."
   ]
  },
  {
   "cell_type": "code",
   "execution_count": null,
   "metadata": {},
   "outputs": [],
   "source": [
    "pairs(rlogcounts)"
   ]
  },
  {
   "cell_type": "markdown",
   "metadata": {},
   "source": [
    "Compare the plots of the pre-normalized and normalized data to see the effect of normalization.\n",
    "\n",
    "Notice how the samples in the box plot, and in-group samples in the pair plots display similar distributions.\n",
    "\n",
    "Looking at normalized plots can be an easy way to look out for any obvious inconsistencies or errors in the sample data."
   ]
  },
  {
   "cell_type": "markdown",
   "metadata": {},
   "source": [
    "### STEP 6: PCA Plot\n",
    "\n",
    "We can now begin to produce plots to further analyze the differences between groups.\n",
    "\n",
    "PCA plots can be an effective way to visualize variation within and between sample sets."
   ]
  },
  {
   "cell_type": "code",
   "execution_count": null,
   "metadata": {},
   "outputs": [],
   "source": [
    "pca_counts <- prcomp(t(rlogcounts))\n",
    "autoplot(pca_counts, data = samples, colour=\"Treatment\", size=6)"
   ]
  },
  {
   "cell_type": "markdown",
   "metadata": {},
   "source": [
    "Plots can be output as above, or also saved as pdf or image files, as below. Try to navigate and click to the created file, after you run the code. \n",
    "\n",
    "Tiff files can also be created this way."
   ]
  },
  {
   "cell_type": "code",
   "execution_count": null,
   "metadata": {},
   "outputs": [],
   "source": [
    "pdf(\"data/gene_counts/PCA_Plot.pdf\")\n",
    "autoplot(pca_counts, data = samples, colour=\"Treatment\", size=6)\n",
    "dev.off()\n",
    "\n",
    "tiff(\"data/gene_counts/PCA_Plot.tiff\")\n",
    "autoplot(pca_counts, data = samples, colour=\"Treatment\", size=6)\n",
    "dev.off()    "
   ]
  },
  {
   "cell_type": "markdown",
   "metadata": {},
   "source": [
    "### STEP 7: Contrast Comparisons\n",
    "\n",
    "Contrast comparisons between two treatment groups can be performed using the deseq2 tool to identify differentially up and down regulated genes.\n",
    "\n",
    "Using R, these results can be summarized, reordered, and/or trimmed.\n",
    "\n",
    "Differentially expressed genes are typically quantified as those genes which have an adjusted P value of below 0.05. An adjusted P value is also sometimes referred to as a false discovery rate, or FDR. In the below, there are 1357 differentially expressed genes. For the sake of reducing the amount of differentially expressed genes, to make analyses easier, these could also be further refined by introducing a threshold based on fold-change. DEseq2 uses the Wald and Benjamini-Hochberg tests for determining P and Adjusted P values, respectively. More information on this can be found in the DEseq2 documentation. "
   ]
  },
  {
   "cell_type": "code",
   "execution_count": null,
   "metadata": {},
   "outputs": [],
   "source": [
    "#Output the results of comparing WT and BPs_lysogen group\n",
    "res_control_cortisol <- results(deseq2Data, contrast=c(\"Treatment\",\"DMSO control\",\"cortisol\"))\n",
    "summary(res_control_cortisol)\n",
    "print(\"Number of genes under a p value of 0.05\")\n",
    "sum(res_control_cortisol$pvalue < 0.05, na.rm=TRUE)\n",
    "print(\"Number of genes under a p adjusted value of 0.05\")\n",
    "sum(res_control_cortisol$padj < 0.05, na.rm=TRUE)\n",
    "\n",
    "\n",
    "#deseq2 optionally output some padj values as 'NA' when genecounts meet certain criteria\n",
    "#that criteria can be found here: https://bioconductor.org/packages/release/bioc/vignettes/DESeq2/inst/doc/DESeq2.html#pvaluesNA\n",
    "#for practical uses, one could replace the NA values with '1', essentially NA values not significant.\n",
    "res_control_cortisol$padj[is.na(res_control_cortisol$padj)] <- 1"
   ]
  },
  {
   "cell_type": "markdown",
   "metadata": {},
   "source": [
    "### STEP 8: Annotating and Exporting Results\n",
    "\n",
    "These differentially expressed genes can be annotated and exported.\n",
    "\n",
    "Combining gene counts with gene annotation isn't always simple, and will vary heavily depending on the annotation file itself.\n",
    "\n",
    "For example, when merging genecounts by 'gene id' with feature tables from NCBI's assembly database, its very common to have duplicate rows, as a single 'gene id' may match to multiple features. \n",
    "\n",
    "Depending on how you want to use your annotated results, you may decide to further reformat your table in whatever suits your further analysis best, for instance by downloading and using a spreadsheet editor.\n",
    "\n",
    "Because the transcript table for m chelonae we have here is so simple, and contains essentially only one 'CDS' or '..RNA' feature for every gene identifier we are using, it is easy for us to reformat it here in the way we want just using R code. However, it is important to note that, again, this is very often not the case, and reformatting will vary depending on both the annotation file itself, and what that annotation file will be used for."
   ]
  },
  {
   "cell_type": "code",
   "execution_count": null,
   "metadata": {},
   "outputs": [],
   "source": [
    "head (annotation)"
   ]
  },
  {
   "cell_type": "code",
   "execution_count": null,
   "metadata": {},
   "outputs": [],
   "source": [
    "# Read the annotation file\n",
    "annotation <- read.table(\"data/gene_counts/merged_gene_counts_zebrafish.txt\", header=TRUE, sep='\\t', quote=\"\\\"\", comment.char = \"\")\n",
    "\n",
    "# Convert DESeq2 results to a data frame\n",
    "results <- data.frame(res_control_cortisol)\n",
    "\n",
    "# Merge annotation with DESeq2 results\n",
    "results.annot <- merge(results, annotation, by.x=\"row.names\", by.y=\"Name\", all.x=TRUE)\n",
    "\n",
    "# If needed, filter out \"gene\" rows (you can skip this if no such column exists)\n",
    "# results.annot <- results.annot[annotation$X..feature != 'gene',]\n",
    "\n",
    "# Rename the first column to 'locus_tag'\n",
    "colnames(results.annot)[1] <- 'locus_tag'\n",
    "\n",
    "# Write out the annotated results\n",
    "write.table(results.annot, \"data/gene_counts/control_cortisol_DESeq2_annot.txt\", row.names=FALSE, sep=\"\\t\")\n",
    "\n",
    "# View the first few rows of the annotated data\n",
    "head(results.annot)\n"
   ]
  },
  {
   "cell_type": "markdown",
   "metadata": {},
   "source": [
    "### STEP 9: More Plots and Clustering Data\n",
    "\n",
    "Finally, although several other different kind of analysis can be done, it is common to plot the results of differential gene expression analysis in forms such as volcano, MA, and heatmaps. These plots help one to further examine the output list of differentially expressed genes in different ways, and potentially identify or further investigate candidate gene(s)."
   ]
  },
  {
   "cell_type": "code",
   "execution_count": null,
   "metadata": {},
   "outputs": [],
   "source": [
    "#volcano and ma plots can be used to visualize significant differences in gene expression\n",
    "results_volc_df <- results.annot\n",
    "EnhancedVolcano(results_volc_df,\n",
    "    lab = results_volc_df[,1],\n",
    "    x = 'log2FoldChange',\n",
    "    y = 'padj')\n",
    "\n",
    "#ma plot\n",
    "plotMA(res_control_cortisol)\n",
    "\n",
    "\n",
    "#heatmaps can used to look at clustering and expression of various gene lists.\n",
    "filtered_res <- results.annot %>% filter(padj < 0.05)\n",
    "filtered_res_counts <- subset(rlogcounts, rownames(rlogcounts) %in% filtered_res[,1])\n",
    "filtered_res_counts = t(scale(t(filtered_res_counts)))\n",
    "Heatmap(filtered_res_counts[1:50,], name = \"Z-Score\", row_names_gp = gpar(fontsize = 8))"
   ]
  }
 ],
 "metadata": {
  "kernelspec": {
   "display_name": "R",
   "language": "R",
   "name": "ir"
  },
  "language_info": {
   "codemirror_mode": "r",
   "file_extension": ".r",
   "mimetype": "text/x-r-source",
   "name": "R",
   "pygments_lexer": "r",
   "version": "4.4.3"
  }
 },
 "nbformat": 4,
 "nbformat_minor": 4
}
