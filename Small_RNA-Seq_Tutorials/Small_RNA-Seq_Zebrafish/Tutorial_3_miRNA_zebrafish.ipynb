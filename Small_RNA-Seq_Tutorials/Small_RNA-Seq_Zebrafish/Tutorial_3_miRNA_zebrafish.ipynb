{
 "cells": [
  {
   "cell_type": "markdown",
   "id": "0c090d4a-6847-4037-a58b-2d256ef381ef",
   "metadata": {},
   "source": [
    "# miRNa-Seq Analysis Training Demo"
   ]
  },
  {
   "cell_type": "markdown",
   "id": "d5761cf8-f49d-4428-aebb-4095439c9f73",
   "metadata": {},
   "source": [
    "## Overview"
   ]
  },
  {
   "cell_type": "markdown",
   "id": "35163c4d-6e54-45ac-8231-7d3bcf0997d4",
   "metadata": {},
   "source": [
    "This code analyzes partial zebrafish data from the King BL et al. study and provides a comprehensive workflow for processing mouse miRNA-seq data. The workflow starts by setting up the environment and necessary directories, and it utilizes the SRA Toolkit to fetch and download sequence data from the NCBI database. FastQC and MultiQC are employed for quality control, while Docker is leveraged to run bioinformatics tools such as Cutadapt for adapter trimming and STAR for genome alignment and index creation. After processing, gene counts are combined into a matrix for differential expression analysis, and various visualization plots are used to interpret and understand the results."
   ]
  },
  {
   "cell_type": "markdown",
   "id": "e46282bd-8e25-44de-a911-4357b017f532",
   "metadata": {},
   "source": [
    "## Step 1: Getting Started"
   ]
  },
  {
   "cell_type": "markdown",
   "id": "4113a345-da1d-49d9-b827-d262a504c4c7",
   "metadata": {},
   "source": [
    "<div class=\"alert alert-block alert-warning\"> NOTE: This Jupyter Notebook was developed to run within a customized container on AWS with all software and packages pre-configured. If running without this customized container, you will need to install tools using the Miniforge environment setup instructions below before moving on to Step 2.</div>"
   ]
  },
  {
   "cell_type": "markdown",
   "id": "c52706a4-5c48-4ef7-bfb7-bab392b10da2",
   "metadata": {},
   "source": [
    "### Without Container: Install Miniforge and R Packages"
   ]
  },
  {
   "cell_type": "markdown",
   "id": "e6a1400d-b1ee-4b26-a22f-8e9b4382350f",
   "metadata": {},
   "source": [
    "Miniforge is a lightweight Conda distribution that offers a streamlined installation process and efficient package management. It provides access to a vast repository of packages.\n",
    "\n",
    "The following code performs these steps:\n",
    "- Downloads Miniforge or Mambaforge (you can use either based on preference)\n",
    "- Installs Miniforge (or Mambaforge) - no need to install conda since mamba will be available immediately\n",
    "- Installs gsutil and dependencies\n",
    "- Using miniforge and bioconda, installs R packages that will be used in this tutorial\n"
   ]
  },
  {
   "cell_type": "markdown",
   "id": "4b8e588f-8e56-4bc9-bf10-11dbdbec6069",
   "metadata": {},
   "source": [
    "<div class=\"alert alert-block alert-info\">Tip: If using the Miniforge install, run the following code cells by removing the # pound from each command line. </div>"
   ]
  },
  {
   "cell_type": "code",
   "execution_count": null,
   "id": "cb8fc0f0-7b9b-4c7a-ac1e-d02ac4beca8b",
   "metadata": {},
   "outputs": [],
   "source": [
    "# Download Miniforge\n",
    "#system(\"curl -L -O https://github.com/conda-forge/miniforge/releases/latest/download/Miniforge3-$(uname)-$(uname -m).sh\", ignore.stdout = TRUE, ignore.stderr = TRUE)\n",
    "\n",
    "# Install Miniforge (you can change the path as needed)\n",
    "#system(\"bash Miniforge3-$(uname)-$(uname -m).sh -b -u -p $HOME/miniforge\", ignore.stdout = TRUE, ignore.stderr = TRUE)\n",
    "\n",
    "# Update PATH to point to the Miniforge bin files\n",
    "#Sys.setenv(PATH = paste0(Sys.getenv(\"HOME\"), \"/miniforge/bin:\", Sys.getenv(\"PATH\")))"
   ]
  },
  {
   "cell_type": "code",
   "execution_count": null,
   "id": "8e1d7c4b-7b69-41f4-8d4b-8ebfcc45bee6",
   "metadata": {},
   "outputs": [],
   "source": [
    "# Use mamba to install the required bioinformatics packages\n",
    "#system(\"mamba install -y -c conda-forge -c bioconda fastqc multiqc entrez-direct parallel-fastq-dump sra-tools samtools subread\")"
   ]
  },
  {
   "cell_type": "code",
   "execution_count": null,
   "id": "ff1729c4-2f84-4435-b06a-a8e4080614dd",
   "metadata": {},
   "outputs": [],
   "source": [
    "# Install packages if not already installed\n",
    "#if (!requireNamespace(\"BiocManager\", quietly = TRUE))\n",
    "#  install.packages(\"BiocManager\")\n",
    "\n",
    "#BiocManager::install(c(\"DESeq2\", \"dplyr\", \"ggplot2\", \"pheatmap\", \"apeglm\", \"ggrepel\", \"EnhancedVolcano\", \"ComplexHeatmap\", \"RColorBrewer\", \"plotly\", \"base64enc\", \"IRdisplay\"))"
   ]
  },
  {
   "cell_type": "markdown",
   "id": "fa5f2e6f-a109-4ec1-9729-748a1ef6aca4",
   "metadata": {},
   "source": [
    "### Step 1.2: Pull Docker Image"
   ]
  },
  {
   "cell_type": "code",
   "execution_count": null,
   "id": "bd53bf2f-2d32-4093-a18b-44d1041012bb",
   "metadata": {},
   "outputs": [],
   "source": [
    "# Pull the Docker image\n",
    "#system(\"docker pull encodedcc/mirna-seq-pipeline:1.2.2\")"
   ]
  },
  {
   "cell_type": "markdown",
   "id": "92f3b9b4-a216-4565-b2ed-891430d4fbaa",
   "metadata": {},
   "source": [
    "----------------------------------------------------"
   ]
  },
  {
   "cell_type": "markdown",
   "id": "edb123e6-df3f-43fd-8e93-1fa9d6a3b5d6",
   "metadata": {},
   "source": [
    "## If running from a container, as noted above, start with <b> STEP 1.3 </b> below:"
   ]
  },
  {
   "cell_type": "markdown",
   "id": "501df95e-f346-4fd9-964b-420e84e40361",
   "metadata": {},
   "source": [
    "### Step 1.3: Load Libraries, Create Directories, and Define Thread Number"
   ]
  },
  {
   "cell_type": "code",
   "execution_count": null,
   "id": "9761fa58-ec1e-44c3-9ed3-37198ae8fce8",
   "metadata": {},
   "outputs": [],
   "source": [
    "# Load libraries\n",
    "library(DESeq2)\n",
    "library(ggplot2)\n",
    "library(pheatmap)\n",
    "library(apeglm) \n",
    "library(ggrepel) \n",
    "library(EnhancedVolcano)\n",
    "library(RColorBrewer)\n",
    "library(ComplexHeatmap)\n",
    "library(plotly)\n",
    "library(IRdisplay)"
   ]
  },
  {
   "cell_type": "code",
   "execution_count": null,
   "id": "c56da9aa-b3d4-496c-88a5-f6fe2e346421",
   "metadata": {},
   "outputs": [],
   "source": [
    "# Create necessary directories on your host machine (outside Docker)\n",
    "dir.create(\"data\", recursive = TRUE)\n",
    "dir.create(\"data/aligned_bam\")\n",
    "dir.create(\"data/fastqc\")\n",
    "dir.create(\"data/fastqc_samples\")\n",
    "dir.create(\"data/raw_fastq\")\n",
    "dir.create(\"data/reference\")\n",
    "dir.create(\"data/sample_STAR\")\n",
    "dir.create(\"data/star_output\")\n",
    "dir.create(\"data/trimmed\")\n",
    "dir.create(\"data/zebrafish_STAR_index\")"
   ]
  },
  {
   "cell_type": "code",
   "execution_count": null,
   "id": "6b4a10fd-4d7c-4a22-8b4b-d9f296d14dc8",
   "metadata": {},
   "outputs": [],
   "source": [
    "# Detect number of cores\n",
    "num_cores <- parallel::detectCores(logical = TRUE)\n",
    "THREADS <- max(1, num_cores - 1)\n",
    "print(paste(\"Number of threads:\", THREADS))"
   ]
  },
  {
   "cell_type": "markdown",
   "id": "5db7e109-e443-4a24-9ccf-e248473dd43d",
   "metadata": {},
   "source": [
    "Executing the SRA Toolkit commands to fetch accession numbers."
   ]
  },
  {
   "cell_type": "code",
   "execution_count": null,
   "id": "e5c6ae24-c53b-467f-a9cc-de85d7ab0126",
   "metadata": {},
   "outputs": [],
   "source": [
    "system(\"esearch -db sra -query 'PRJNA418313' | efetch -format runinfo > all_sra_info.txt\")\n",
    "system(\"grep -E 'GSM2856755|GSM2856756|GSM2856757|GSM2856761|GSM2856762|GSM2856763' all_sra_info.txt | cut -d',' -f1 > accs.txt\")\n",
    "system(\"cat accs.txt\")"
   ]
  },
  {
   "cell_type": "markdown",
   "id": "1b5637c2-8dad-4deb-9da6-583af6eddee6",
   "metadata": {},
   "source": [
    "## Step 2: Download Data and Reference Files\n"
   ]
  },
  {
   "cell_type": "markdown",
   "id": "4b887d5b-f1a5-408d-8a37-baf4e39520b6",
   "metadata": {},
   "source": [
    "The prefetch command will access Sequence Read Archive (SRA) records (SRR) in parallel and download the corresponding FastQ files from the NCBI database."
   ]
  },
  {
   "cell_type": "code",
   "execution_count": null,
   "id": "21c3045e-e0d8-434f-8839-72923aa5db38",
   "metadata": {},
   "outputs": [],
   "source": [
    "# Download multiple files using the SRA-Toolkit with parallel threads\n",
    "system(paste(\"cat accs.txt | xargs -P\", THREADS, \"-I {} prefetch {} -O data/raw_fastq -f yes\"))"
   ]
  },
  {
   "cell_type": "markdown",
   "id": "7b11b659-a9f7-4afb-9a40-b49d0ec428bf",
   "metadata": {},
   "source": [
    "The reference genome, annotation information for mouse genome, and the primer adapter are download from S3 bucket."
   ]
  },
  {
   "cell_type": "code",
   "execution_count": null,
   "id": "1941fcac-455d-4012-8aea-4d3183163ddc",
   "metadata": {},
   "outputs": [],
   "source": [
    "# Download genome and annotation files\n",
    "system(\"wget -P data/reference/ https://nigms-sandbox.s3.us-east-1.amazonaws.com/bulk-scRNAseq/reference/GRCz11.fa\")\n",
    "system(\"wget -P data/reference/ https://nigms-sandbox.s3.us-east-1.amazonaws.com/bulk-scRNAseq/reference/dre_zebrafish.gtf\")"
   ]
  },
  {
   "cell_type": "markdown",
   "id": "cbb4d18d-181f-4ddf-8ebe-46139ab5adaf",
   "metadata": {},
   "source": [
    "## Step 3: Download and Convert SRA to FASTQ"
   ]
  },
  {
   "cell_type": "markdown",
   "id": "ad409321-0e98-454e-a8ab-3c2d51ca118d",
   "metadata": {},
   "source": [
    "Run the this command to download and convert SRA files to FASTQ using the prefetch and fasterq-dump tools."
   ]
  },
  {
   "cell_type": "code",
   "execution_count": null,
   "id": "4862ac65-349e-48e6-9aad-3f43499b5b26",
   "metadata": {},
   "outputs": [],
   "source": [
    "# Convert SRA files to Fastq format using fastq-dump\n",
    "system(paste(\"cat accs.txt | xargs -P\", THREADS, \"-I {} fastq-dump --outdir data/raw_fastq/ --gzip data/raw_fastq/{}/{}.sra\"))"
   ]
  },
  {
   "cell_type": "markdown",
   "id": "6e917e2d-dcdc-4c67-98ff-2f1600fd95ad",
   "metadata": {},
   "source": [
    "## Step 4: Run FastQC"
   ]
  },
  {
   "cell_type": "markdown",
   "id": "5f778f00-859c-402d-8883-13750e9cdf61",
   "metadata": {},
   "source": [
    "Run FastQC to analyze the quality of the FASTQ files, and then generate a MultiQC report."
   ]
  },
  {
   "cell_type": "code",
   "execution_count": null,
   "id": "e5a15233-4dac-496a-9ac9-37b83ae3da0f",
   "metadata": {},
   "outputs": [],
   "source": [
    "# Run FastQC on the downloaded Fastq files\n",
    "system(paste(\"cat accs.txt | xargs -P\", THREADS, \"-I {} fastqc data/raw_fastq/{}.fastq.gz -o data/fastqc/\"))"
   ]
  },
  {
   "cell_type": "code",
   "execution_count": null,
   "id": "d0795b26-e579-4dda-89c4-50a6aa37b63a",
   "metadata": {},
   "outputs": [],
   "source": [
    "display_html('<iframe src=\"./data/fastqc/SRR6289638_fastqc.html\" width=\"800\" height=\"600\"></iframe>')"
   ]
  },
  {
   "cell_type": "code",
   "execution_count": null,
   "id": "c9ff0199-c8d2-4616-af50-b9faa88a57f0",
   "metadata": {},
   "outputs": [],
   "source": [
    "# Run MultiQC to generate a combined QC report\n",
    "system(\"multiqc -f data/fastqc/\")\n",
    "\n",
    "# Read and display the MultiQC data using R's data frames\n",
    "multiqc_data <- read.csv(\"./multiqc_data/multiqc_fastqc.txt\", sep = \"\\t\")\n",
    "print(multiqc_data)"
   ]
  },
  {
   "cell_type": "markdown",
   "id": "e149ee2e-a315-4f2c-8900-a1401d7323ae",
   "metadata": {},
   "source": [
    "## Step 5: Adapter Trimming using Cutadapt"
   ]
  },
  {
   "cell_type": "markdown",
   "id": "22edf8c7-c696-422c-9d18-dacbb2d61eee",
   "metadata": {},
   "source": [
    "The code uses Docker to run cutadapt on each FASTQ file, removing adapter sequences and saving the trimmed results to the specified output directory."
   ]
  },
  {
   "cell_type": "code",
   "execution_count": null,
   "id": "3120f495-156f-4b05-ab43-c428491b3d96",
   "metadata": {},
   "outputs": [],
   "source": [
    "# Define the list of SRA accessions from your file\n",
    "accs_ids <- readLines(\"accs.txt\")\n",
    "\n",
    "# Specify adapter file location\n",
    "adapter_file <- \"data/trimmed/three_prime_adapter.fa\"\n",
    "trimmed_output_dir <- \"data/trimmed\"\n",
    "\n",
    "# Run cutadapt in Docker for each accession\n",
    "for (i in 1:length(accs_ids)) {\n",
    "  acc <- accs_ids[i]\n",
    "  input_fastq <- paste0(\"data/raw_fastq/\", acc, \".fastq.gz\")\n",
    "  trimmed_fastq <- paste0(trimmed_output_dir, \"/\", acc, \"_trimmed.fastq\")\n",
    "\n",
    "  # Run cutadapt inside Docker\n",
    "  system(paste0(\n",
    "    \"cutadapt -a file:/data/\", adapter_file, \" -e 0.25 -m 15 -M 30 \",\n",
    "    \" --untrimmed-output /data/\", trimmed_output_dir, \"/\", acc, \"_untrimmed.fastq\",\n",
    "    \" -o /data/\", trimmed_output_dir, \"/\", acc, \"_trimmed.fastq\",\n",
    "    \" --cores \", THREADS, \" /data/\", input_fastq\n",
    "  ))\n",
    "}"
   ]
  },
  {
   "cell_type": "markdown",
   "id": "6b689f01-06eb-4520-b160-58c3aec2c388",
   "metadata": {},
   "source": [
    "<details>\n",
    "<summary><b>If running without a container replace above code with code hidden within this dropdown.</b></summary>\n",
    "\n",
    "```\n",
    "# Define the list of SRA accessions from your file\n",
    "accs_ids <- readLines(\"accs.txt\")\n",
    "\n",
    "# Specify adapter file location\n",
    "adapter_file <- \"data/trimmed/three_prime_adapter.fa\"\n",
    "trimmed_output_dir <- \"data/trimmed\"\n",
    "\n",
    "# Run cutadapt in Docker for each accession\n",
    "for (i in 1:length(accs_ids)) {\n",
    "  acc <- accs_ids[i]\n",
    "  input_fastq <- paste0(\"data/raw_fastq/\", acc, \".fastq.gz\")\n",
    "  trimmed_fastq <- paste0(trimmed_output_dir, \"/\", acc, \"_trimmed.fastq\")\n",
    "\n",
    "  # Run cutadapt inside Docker\n",
    "  system(paste0(\n",
    "    \"docker run --rm -v \", getwd(), \":/data \",\n",
    "    \"encodedcc/mirna-seq-pipeline:1.2.2 \",\n",
    "    \"cutadapt -a file:/data/\", adapter_file, \" -e 0.25 -m 15 -M 30 \",\n",
    "    \" --untrimmed-output /data/\", trimmed_output_dir, \"/\", acc, \"_untrimmed.fastq\",\n",
    "    \" -o /data/\", trimmed_output_dir, \"/\", acc, \"_trimmed.fastq\",\n",
    "    \" --cores \", THREADS, \" /data/\", input_fastq\n",
    "  ))\n",
    "}\n",
    "```\n",
    "</details>\n",
    "\n"
   ]
  },
  {
   "cell_type": "markdown",
   "id": "09bb968f-4b37-4531-a3d5-f4e295f06155",
   "metadata": {},
   "source": [
    "## Step 6: Run Fastqc"
   ]
  },
  {
   "cell_type": "markdown",
   "id": "9fc2c305-5885-4059-b6f7-43d9c4e429b1",
   "metadata": {},
   "source": [
    "Run Fastqc after cutadapt to ensure that the trimmed FASTQ files are of good quality before proceeding with STAR."
   ]
  },
  {
   "cell_type": "code",
   "execution_count": null,
   "id": "d108a80f-b22e-4641-8c4e-127e610581f0",
   "metadata": {},
   "outputs": [],
   "source": [
    "# Run FastQC on the downloaded Fastq files\n",
    "system(paste(\"cat accs.txt | xargs -P\", THREADS, \"-I {} fastqc data/trimmed/{}_trimmed.fastq -o data/fastqc_samples\"))"
   ]
  },
  {
   "cell_type": "code",
   "execution_count": null,
   "id": "da0d1d1c-ba3d-4afd-833d-203e5046a630",
   "metadata": {},
   "outputs": [],
   "source": [
    "display_html('<iframe src=\"./data/fastqc_samples/SRR6289638_trimmed_fastqc.html\" width=\"800\" height=\"600\"></iframe>')"
   ]
  },
  {
   "cell_type": "code",
   "execution_count": null,
   "id": "8b50c416-c32f-47b2-af5b-dc4719087638",
   "metadata": {},
   "outputs": [],
   "source": [
    "# Run MultiQC to generate a combined QC report\n",
    "system(\"multiqc -f data/fastqc_samples/\")\n",
    "\n",
    "# Read and display the MultiQC data using R's data frames\n",
    "multiqc_data <- read.csv(\"./multiqc_data/multiqc_fastqc.txt\", sep = \"\\t\")\n",
    "print(multiqc_data)"
   ]
  },
  {
   "cell_type": "markdown",
   "id": "ae0649b6-8a3c-4ea7-90f8-f7704e7eebd4",
   "metadata": {},
   "source": [
    "## Step 7: STAR Genome Indexing"
   ]
  },
  {
   "cell_type": "markdown",
   "id": "96f82e94-1f74-4767-87ee-6cfd858045ef",
   "metadata": {},
   "source": [
    "<div class=\"alert alert-block alert-warning\"> NOTE: This step is computationally expensive. Make sure your instance RAM aligns with the --limitGenomeGenerateRAM parameter. You may need to lower the parameter value. Additionally, make sure you have adequate disk space to store the generated index or the process may not complete.</div>"
   ]
  },
  {
   "cell_type": "markdown",
   "id": "419264ef-94ed-4189-b20f-e59db8a0aeb3",
   "metadata": {},
   "source": [
    "STAR is a genome aligner that requires a pre-built genome index to efficiently map reads to the reference genome. This step creates a genome index for the zebrafish reference genome, which will be used in the subsequent alignment step."
   ]
  },
  {
   "cell_type": "code",
   "execution_count": null,
   "id": "462a7b99-4188-4d3d-b4b2-61b01b1c2841",
   "metadata": {},
   "outputs": [],
   "source": [
    "# Run STAR genome indexing inside Docker\n",
    "system(paste0(\n",
    "  \"STAR --runThreadN \", THREADS, \n",
    "  \" --runMode genomeGenerate\",\n",
    "  \" --genomeDir /data/data/zebrafish_STAR_index\",\n",
    "  \" --genomeFastaFiles /data/data/reference/GRCz11.fa\",\n",
    "  \" --sjdbGTFfile /data/data/reference/dre_zebrafish.gtf\",\n",
    "  \" --sjdbOverhang 1 --limitGenomeGenerateRAM 29000000000\"\n",
    "))"
   ]
  },
  {
   "cell_type": "markdown",
   "id": "3219fac9-16c0-49f7-bfc1-e837ee5a9fa2",
   "metadata": {},
   "source": [
    "<details>\n",
    "<summary><b>If running without a container replace above code with code hidden within this dropdown.</b></summary>\n",
    "\n",
    "```\n",
    "# Run STAR genome indexing inside Docker\n",
    "system(paste0(\n",
    "  \"docker run --rm -v \", getwd(), \":/data \",\n",
    "      \"encodedcc/mirna-seq-pipeline:1.2.2 \",\n",
    "  \"STAR --runThreadN \", THREADS, \n",
    "  \" --runMode genomeGenerate\",\n",
    "  \" --genomeDir /data/data/zebrafish_STAR_index\",\n",
    "  \" --genomeFastaFiles /data/data/reference/GRCz11.fa\",\n",
    "  \" --sjdbGTFfile /data/data/reference/dre_zebrafish.gtf\",\n",
    "  \" --sjdbOverhang 1 --limitGenomeGenerateRAM 29000000000\"\n",
    "))\n",
    "```\n",
    "</details>\n",
    "\n"
   ]
  },
  {
   "cell_type": "markdown",
   "id": "8bb10737-dd48-4923-ba2a-3cb368211886",
   "metadata": {},
   "source": [
    "## Step 8: STAR Genome Alignment"
   ]
  },
  {
   "cell_type": "markdown",
   "id": "1ce0cda8-e3fd-4a9a-b8f4-4b1a22a0f01c",
   "metadata": {},
   "source": [
    "After create the alignment it will get the trimmed FASTQ files and align to the reference genome using the STAR aligner. The aligned reads are then used for downstream analysis, such as differential gene expression analysis."
   ]
  },
  {
   "cell_type": "code",
   "execution_count": null,
   "id": "3a84a262-85ac-430d-ac79-79367c9dd47f",
   "metadata": {},
   "outputs": [],
   "source": [
    "# Read accession IDs from the file\n",
    "accs_ids <- readLines(\"accs.txt\")\n",
    "\n",
    "# Loop through each accession ID\n",
    "for (i in 1:length(accs_ids)) {\n",
    "  acc <- accs_ids[i]\n",
    "\n",
    "  # Construct the command\n",
    "  system(paste0(\n",
    "    \"STAR --genomeDir /data/data/zebrafish_STAR_index \",\n",
    "    \" --readFilesIn /data/data/trimmed/\", acc, \"_trimmed.fastq \",\n",
    "    \" --sjdbGTFfile /data/data/reference/dre_zebrafish.gtf \",\n",
    "    \" --runThreadN \", THREADS,\n",
    "    \" --alignEndsType EndToEnd \",\n",
    "    \" --outFilterMismatchNmax 1 \",\n",
    "    \" --outFilterMultimapScoreRange 0 \",\n",
    "    \" --quantMode TranscriptomeSAM GeneCounts \",\n",
    "    \" --outReadsUnmapped Fastx \",\n",
    "    \" --outSAMtype BAM SortedByCoordinate \",\n",
    "    \" --outFilterMultimapNmax 10 \",\n",
    "    \" --outSAMunmapped Within \",\n",
    "    \" --outFilterScoreMinOverLread 0 \",\n",
    "    \" --outFilterMatchNminOverLread 0 \",\n",
    "    \" --outFilterMatchNmin 16 \",\n",
    "    \" --alignSJDBoverhangMin 1000 \",\n",
    "    \" --alignIntronMax 1 \",\n",
    "    \" --outWigType wiggle \",\n",
    "    \" --outWigStrand Stranded \",\n",
    "    \" --outWigNorm RPM \",\n",
    "    \"--outFileNamePrefix /data/data/star_output/\", acc, \"_\"\n",
    "  ))\n",
    "}"
   ]
  },
  {
   "cell_type": "markdown",
   "id": "4dc60a42-faf7-4a44-99a0-162953945524",
   "metadata": {},
   "source": [
    "<details>\n",
    "<summary><b>If running without a container replace above code with code hidden within this dropdown.</b></summary>\n",
    "\n",
    "```\n",
    "# Read accession IDs from the file\n",
    "accs_ids <- readLines(\"accs.txt\")\n",
    "\n",
    "# Loop through each accession ID\n",
    "for (i in 1:length(accs_ids)) {\n",
    "  acc <- accs_ids[i]\n",
    "\n",
    "  # Construct the command\n",
    "  system(paste0(\n",
    "    \"docker run --rm -v \", getwd(), \":/data \",\n",
    "    \"encodedcc/mirna-seq-pipeline:1.2.2 \",\n",
    "    \"STAR --genomeDir /data/data/zebrafish_STAR_index \",\n",
    "    \" --readFilesIn /data/data/trimmed/\", acc, \"_trimmed.fastq \",\n",
    "    \" --sjdbGTFfile /data/data/reference/dre_zebrafish.gtf \",\n",
    "    \" --runThreadN \", THREADS,\n",
    "    \" --alignEndsType EndToEnd \",\n",
    "    \" --outFilterMismatchNmax 1 \",\n",
    "    \" --outFilterMultimapScoreRange 0 \",\n",
    "    \" --quantMode TranscriptomeSAM GeneCounts \",\n",
    "    \" --outReadsUnmapped Fastx \",\n",
    "    \" --outSAMtype BAM SortedByCoordinate \",\n",
    "    \" --outFilterMultimapNmax 10 \",\n",
    "    \" --outSAMunmapped Within \",\n",
    "    \" --outFilterScoreMinOverLread 0 \",\n",
    "    \" --outFilterMatchNminOverLread 0 \",\n",
    "    \" --outFilterMatchNmin 16 \",\n",
    "    \" --alignSJDBoverhangMin 1000 \",\n",
    "    \" --alignIntronMax 1 \",\n",
    "    \" --outWigType wiggle \",\n",
    "    \" --outWigStrand Stranded \",\n",
    "    \" --outWigNorm RPM \",\n",
    "    \"--outFileNamePrefix /data/data/star_output/\", acc, \"_\"\n",
    "  ))\n",
    "}\n",
    "```\n",
    "</details>\n",
    "\n"
   ]
  },
  {
   "cell_type": "markdown",
   "id": "e6a19ab8-2e84-4a55-9d96-db0c6273da50",
   "metadata": {},
   "source": [
    "## Step 9: Performing Differential Expression Analysis"
   ]
  },
  {
   "cell_type": "markdown",
   "id": "093a208a-404d-4a1d-84f7-19f581be637e",
   "metadata": {},
   "source": [
    "Now, this step processes the gene count files generated by STAR and combines them into a single data frame for further analysis."
   ]
  },
  {
   "cell_type": "code",
   "execution_count": null,
   "id": "897ae547-713e-4649-8fd8-2a3bd2733e04",
   "metadata": {},
   "outputs": [],
   "source": [
    "# Set up libraries\n",
    "library(dplyr)\n",
    "\n",
    "# Define the accession IDs and output directory\n",
    "accs <- c(\"SRR6289638\", \"SRR6289639\", \"SRR6289640\", \"SRR6289644\", \"SRR6289645\", \"SRR6289646\")\n",
    "output_dir <- \"data/star_output/\"\n",
    "\n",
    "# Create a function to read in gene counts from STAR output\n",
    "read_gene_counts <- function(acc, output_dir) {\n",
    "  filepath <- file.path(output_dir, paste0(acc, \"_ReadsPerGene.out.tab\"))\n",
    "  # Read the data and extract the second column (unstranded counts)\n",
    "  gene_counts <- read.table(filepath, header = FALSE, sep = \"\\t\", stringsAsFactors = FALSE)\n",
    "  gene_counts <- gene_counts[, c(1, 2)]  # First column is gene, second is unstranded counts\n",
    "  colnames(gene_counts) <- c(\"Gene\", acc)\n",
    "  return(gene_counts)\n",
    "}\n",
    "\n",
    "# Initialize the combined matrix with the first file\n",
    "combined_counts <- read_gene_counts(accs[1], output_dir)\n",
    "\n",
    "# Loop through the remaining files and merge the counts by gene\n",
    "for (i in 2:length(accs)) {\n",
    "  acc <- accs[i]\n",
    "  gene_counts <- read_gene_counts(acc, output_dir)\n",
    "  combined_counts <- full_join(combined_counts, gene_counts, by = \"Gene\")\n",
    "}\n",
    "\n",
    "# View the combined gene counts\n",
    "head(combined_counts)\n"
   ]
  },
  {
   "cell_type": "markdown",
   "id": "b4c9778c-9477-43a5-bf90-2267e694da18",
   "metadata": {},
   "source": [
    "The differential expression analysis using the DESeq2 package to identify genes that show significant changes in expression between the two experimental conditions (\"0dpa\" and \"3dpa\")."
   ]
  },
  {
   "cell_type": "code",
   "execution_count": null,
   "id": "993a1786-d0e6-4f69-8f5c-eb496c84bdba",
   "metadata": {},
   "outputs": [],
   "source": [
    "# Load necessary libraries\n",
    "library(DESeq2)\n",
    "\n",
    "# Prepare the count matrix\n",
    "rownames(combined_counts) <- combined_counts$Gene\n",
    "count_data <- as.matrix(combined_counts[, -1])\n",
    "\n",
    "# Define sample conditions (e.g., two groups: control vs treatment)\n",
    "conditions <- factor(c(\"0dpa\", \"0dpa\", \"0dpa\", \"3dpa\", \"3dpa\", \"3dpa\"))\n",
    "coldata <- data.frame(row.names = accs, condition = conditions)\n",
    "\n",
    "# Create DESeq2 dataset\n",
    "dds <- DESeqDataSetFromMatrix(countData = count_data, colData = coldata, design = ~ condition)\n",
    "\n",
    "# Run DESeq2\n",
    "dds <- DESeq(dds)\n",
    "\n",
    "# Get results\n",
    "res <- results(dds)\n"
   ]
  },
  {
   "cell_type": "markdown",
   "id": "c7683606-e149-46cc-84c5-2bc2f0680b37",
   "metadata": {},
   "source": [
    "## Step 10: Gene Expression Visualization and Exploration"
   ]
  },
  {
   "cell_type": "code",
   "execution_count": null,
   "id": "8bd8da43-3906-4e19-81dc-e57f78ecebfc",
   "metadata": {},
   "outputs": [],
   "source": [
    "#Volcano Plot\n",
    "EnhancedVolcano(res,\n",
    "    lab = rownames(res),\n",
    "    x = 'log2FoldChange',\n",
    "    y = 'pvalue',\n",
    "    pCutoff = 0.05,\n",
    "    FCcutoff = 1.0,\n",
    "    title = 'Volcano Plot')\n"
   ]
  },
  {
   "cell_type": "code",
   "execution_count": null,
   "id": "9eda72d9-5666-4475-a9e8-5493de43f1f5",
   "metadata": {},
   "outputs": [],
   "source": [
    "rld <- rlog(dds)\n",
    "# Select top 20 genes by adjusted p-value\n",
    "top_genes <- head(order(res$padj), 20)\n",
    "mat <- assay(rld)[top_genes, ]\n",
    "\n",
    "# Plot the heatmap\n",
    "pheatmap(mat, cluster_rows = TRUE, cluster_cols = TRUE)\n"
   ]
  },
  {
   "cell_type": "code",
   "execution_count": null,
   "id": "f5a4ba2d-01ba-4ca0-abe3-5b1f2cad2a29",
   "metadata": {},
   "outputs": [],
   "source": [
    "#PCA plot\n",
    "rld <- rlog(dds) \n",
    "plotPCA(rld, intgroup = \"condition\")\n"
   ]
  },
  {
   "cell_type": "code",
   "execution_count": null,
   "id": "3938b11a-9f25-4988-902f-ced0ce33e6b8",
   "metadata": {},
   "outputs": [],
   "source": [
    "#MA plot\n",
    "plotMA(res, main=\"DESeq2 MA Plot\", ylim=c(-2, 2))\n"
   ]
  },
  {
   "cell_type": "code",
   "execution_count": null,
   "id": "959f2e3d-eabd-4602-aeb0-9f5c7d944b8b",
   "metadata": {},
   "outputs": [],
   "source": [
    "# Interactive MA Plot\n",
    "res_df <- as.data.frame(res)\n",
    "\n",
    "p <- ggplot(res_df, aes(x=log10(baseMean), y=log2FoldChange, \n",
    "                        text=paste(\"Gene: \", rownames(res_df)), \n",
    "                        color=padj < 0.05)) +\n",
    "  geom_point(alpha=0.5) +\n",
    "  scale_color_manual(values=c(\"grey\", \"red\")) + # Highlight significant genes\n",
    "  labs(title=\"DESeq2 MA Plot\", x=\"log10(baseMean)\", y=\"log2 Fold Change\") +\n",
    "  theme_minimal() +\n",
    "  ylim(-2, 2)\n",
    "\n",
    "interactive_plot <- ggplotly(p, tooltip=\"text\")\n",
    "interactive_plot\n"
   ]
  }
 ],
 "metadata": {
  "kernelspec": {
   "display_name": "R",
   "language": "R",
   "name": "ir"
  },
  "language_info": {
   "codemirror_mode": "r",
   "file_extension": ".r",
   "mimetype": "text/x-r-source",
   "name": "R",
   "pygments_lexer": "r",
   "version": "4.4.3"
  }
 },
 "nbformat": 4,
 "nbformat_minor": 5
}
